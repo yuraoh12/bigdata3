{
  "nbformat": 4,
  "nbformat_minor": 0,
  "metadata": {
    "colab": {
      "name": "Untitled42.ipynb",
      "provenance": [],
      "collapsed_sections": [],
      "authorship_tag": "ABX9TyP5HQBrP74OYkQHK7cH6Ns+",
      "include_colab_link": true
    },
    "kernelspec": {
      "name": "python3",
      "display_name": "Python 3"
    },
    "language_info": {
      "name": "python"
    }
  },
  "cells": [
    {
      "cell_type": "markdown",
      "metadata": {
        "id": "view-in-github",
        "colab_type": "text"
      },
      "source": [
        "<a href=\"https://colab.research.google.com/github/chacha86/BigData3/blob/colab/KNN%20%EC%98%88%EC%A0%9C.ipynb\" target=\"_parent\"><img src=\"https://colab.research.google.com/assets/colab-badge.svg\" alt=\"Open In Colab\"/></a>"
      ]
    },
    {
      "cell_type": "code",
      "source": [
        "# 머신러닝 알고리즘. \n",
        "# KNN - 최근접 이웃 알고리즘\n",
        "\n",
        "import pandas as pd\n",
        "\n",
        "df = pd.read_csv('/content/Fish.csv')\n",
        "\n",
        "# 지도 학습 -> 학습을 시킬 때 답을 제시\n",
        "# 비지도 학습 -> 답X, 데이터들의 패턴을 통해 상관관계를 나타내는데 많이 이용\n",
        "\n",
        "# 학습 데이터 (모의고사 문제)\n",
        "# 정답 데이터 (모의고사 문제의 정답)\n",
        "# 학습데이터와 정답데이터를 이용해 머신러닝 알고리즘을 훈련시킬 수 있다.\n",
        "\n",
        "# 무게\n",
        "weight = df['Weight']\n",
        "\n",
        "# 수학적인 알고리즘 처리 -> 배열(넘파이)\n",
        "# 머신러닝 알고리즘에는 배열로 넘겨준다.\n",
        "weight.values\n",
        "\n",
        "species = df['Species']\n",
        "\n",
        "species.unique() # 물고기 종류 확인\n",
        "df\n",
        "# 마킹\n",
        "\n",
        "# 내가 원하는 것.(분류 되기를 바라는 것.) -> target(정답: 1, 나머진 : 0)\n",
        "\n",
        "# bream에다가 마킹하기\n",
        "df['target'] = 0 # target 컬럼 만들기(초기값 0)\n",
        "\n",
        "idx = df['Species'] == 'Bream' # 조건 인덱싱으로 Bream인 인덱스 찾기\n",
        "\n",
        "# 판다스 인덱싱 -> loc, iloc\n",
        "df.loc[0:10, 'Species' : 'Length1'] \n",
        "\n",
        "df.loc[idx, 'target'] = 1 # 판다스 인덱싱을 이용해 데이터 수정하기\n",
        "\n",
        "# 학습데이터\n",
        "idx2 = (df['Species'] == 'Bream') | (df['Species'] == 'Smelt')\n",
        "\n",
        "df2 = df[idx2]\n",
        "\n",
        "train_set = df2[['Weight', 'Length1']]\n",
        "target_set = df2['target']\n",
        "\n",
        "train_set = train_set.values\n",
        "target_set = target_set.values\n",
        "\n",
        "\n",
        "# 산점도\n",
        "\n",
        "\n",
        "\n",
        "\n",
        "\n",
        "\n",
        "# 정답데이터\n"
      ],
      "metadata": {
        "colab": {
          "base_uri": "https://localhost:8080/"
        },
        "id": "6DMGYBNnHNO3",
        "outputId": "f5180ad9-e3d1-4c30-b34b-c5d8e84ef63d"
      },
      "execution_count": 44,
      "outputs": [
        {
          "output_type": "execute_result",
          "data": {
            "text/plain": [
              "array([242. ,  23.2])"
            ]
          },
          "metadata": {},
          "execution_count": 44
        }
      ]
    },
    {
      "cell_type": "code",
      "source": [
        "import matplotlib.pyplot as plt\n",
        "\n",
        "plt.scatter(train_set[:, 0], train_set[:, 1])\n",
        "plt.scatter([230, 250, 440, 560], [22,33, 25, 34])\n",
        "plt.scatter(80, 12, marker='x')\n",
        "\n",
        "from sklearn.neighbors import KNeighborsClassifier # KNN 알고리즘 모델\n",
        "\n",
        "kn = KNeighborsClassifier()\n",
        "\n",
        "# 학습\n",
        "kn.fit(train_set, target_set)\n",
        "\n",
        "# 평가\n",
        "kn.score(train_set, target_set) # 1.0 ==> 100%\n",
        "\n",
        "# 예측\n",
        "kn.predict([[80, 12]])\n",
        "\n",
        "# 최근접 이웃\n",
        "# 5개중에 더 많은 것을 정답이라고 예측\n",
        "\n"
      ],
      "metadata": {
        "colab": {
          "base_uri": "https://localhost:8080/",
          "height": 283
        },
        "id": "IUfWsMldUSaA",
        "outputId": "51754c2c-c405-4624-b09b-b32e8999ed9b"
      },
      "execution_count": 57,
      "outputs": [
        {
          "output_type": "execute_result",
          "data": {
            "text/plain": [
              "array([0])"
            ]
          },
          "metadata": {},
          "execution_count": 57
        },
        {
          "output_type": "display_data",
          "data": {
            "text/plain": [
              "<Figure size 432x288 with 1 Axes>"
            ],
            "image/png": "[encoded data removed]"
          },
          "metadata": {
            "needs_background": "light"
          }
        }
      ]
    },
    {
      "cell_type": "code",
      "source": [
        ""
      ],
      "metadata": {
        "id": "PRKm-G0ETXKf"
      },
      "execution_count": null,
      "outputs": []
    }
  ]
}