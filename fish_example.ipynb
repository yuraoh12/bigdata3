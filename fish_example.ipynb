{
  "nbformat": 4,
  "nbformat_minor": 0,
  "metadata": {
    "colab": {
      "name": "fish_example.ipynb",
      "provenance": [],
      "authorship_tag": "ABX9TyOL9Ln9kkToHSaUFxI+UwdZ",
      "include_colab_link": true
    },
    "kernelspec": {
      "name": "python3",
      "display_name": "Python 3"
    },
    "language_info": {
      "name": "python"
    }
  },
  "cells": [
    {
      "cell_type": "markdown",
      "metadata": {
        "id": "view-in-github",
        "colab_type": "text"
      },
      "source": [
        "<a href=\"https://colab.research.google.com/github/chacha86/BigData3/blob/colab/fish_example.ipynb\" target=\"_parent\"><img src=\"https://colab.research.google.com/assets/colab-badge.svg\" alt=\"Open In Colab\"/></a>"
      ]
    },
    {
      "cell_type": "code",
      "execution_count": null,
      "metadata": {
        "id": "-TmRWVF11eDy"
      },
      "outputs": [],
      "source": [
        "import pandas as pd\n",
        "import numpy as np\n",
        "import matplotlib.pyplot as plt\n",
        "\n",
        "df = pd.read_csv('/content/Fish.csv')\n",
        "\n",
        "df['Species'].unique()\n",
        "\n",
        "trd = df.iloc[:, 1:]\n",
        "trt = df['Species']\n",
        "\n",
        "from sklearn.model_selection import train_test_split\n",
        "from sklearn.preprocessing import StandardScaler\n",
        "from sklearn.neighbors import KNeighborsClassifier\n",
        "\n",
        "trd, tsd, trt, tst = train_test_split(trd.values, trt.values, random_state=42)\n",
        "ss = StandardScaler()\n",
        "ss.fit(trd)\n",
        "trd_s = ss.transform(trd)\n",
        "tsd_s = ss.transform(tsd)\n"
      ]
    }
  ]
}