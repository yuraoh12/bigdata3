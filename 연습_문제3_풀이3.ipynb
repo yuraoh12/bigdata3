{
  "nbformat": 4,
  "nbformat_minor": 0,
  "metadata": {
    "colab": {
      "name": "연습 문제3.ipynb의 사본",
      "provenance": [],
      "collapsed_sections": [],
      "authorship_tag": "ABX9TyOP+VXGS+3j1O1kj9mEc5j9",
      "include_colab_link": true
    },
    "kernelspec": {
      "name": "python3",
      "display_name": "Python 3"
    },
    "language_info": {
      "name": "python"
    }
  },
  "cells": [
    {
      "cell_type": "markdown",
      "metadata": {
        "id": "view-in-github",
        "colab_type": "text"
      },
      "source": [
        "<a href=\"https://colab.research.google.com/github/chacha86/BigData3/blob/colab/%EC%97%B0%EC%8A%B5_%EB%AC%B8%EC%A0%9C3_%ED%92%80%EC%9D%B43.ipynb\" target=\"_parent\"><img src=\"https://colab.research.google.com/assets/colab-badge.svg\" alt=\"Open In Colab\"/></a>"
      ]
    },
    {
      "cell_type": "code",
      "execution_count": null,
      "metadata": {
        "id": "Ozsvu7MrJQoa"
      },
      "outputs": [],
      "source": [
        "import pandas as pd\n",
        "import numpy as np\n",
        "import matplotlib.pyplot as plt\n",
        "import seaborn as sns\n",
        "\n",
        "# 데이터 설명\n",
        "# id: 일련번호\n",
        "# name: AirBnB 이름\n",
        "# host_id: 호스트 ID  \n",
        "# host_name: 호스트 성명 \n",
        "# neighbourhood_group: 지구명\n",
        "# neighbourhood : 지역명\n",
        "# latitude: 위도  \n",
        "# longitude: 경도  \n",
        "# room_type: 방 타입  \n",
        "# price: 가격  \n",
        "# minimum_nights: 최소 숙박일수  \n",
        "# number_of_reviews: 리뷰 개수\n",
        "# last_review: 최근 리뷰 일자\n",
        "# reviews_per_month: 월 평균 리뷰 수\n",
        "# calculated_host_listings_count:  호스트에게 대여 가능한 에어비앤비의 총 개수\n",
        "# availability_365: 1년 중 가능한 대여일\n",
        "\n",
        "df = pd.read_csv('/content/AB_NYC_2019.csv')\n",
        "df.head()\n",
        "df.info()\n",
        "# df['id'].unique().shape\n",
        "df.describe()\n",
        "\n"
      ]
    },
    {
      "cell_type": "code",
      "source": [
        "# 수치형데이터와 price의 상관관계\n",
        "# jointplot 활용\n",
        "sns.jointplot(x='host_id', y='price', data=df)"
      ],
      "metadata": {
        "id": "dMsy1-2jJ7bC"
      },
      "execution_count": null,
      "outputs": []
    },
    {
      "cell_type": "code",
      "source": [
        "df.columns"
      ],
      "metadata": {
        "id": "YqqFJpwRaD1C"
      },
      "execution_count": null,
      "outputs": []
    },
    {
      "cell_type": "code",
      "source": [
        "sns.jointplot(x='number_of_reviews', y='price', data=df)"
      ],
      "metadata": {
        "id": "sZqsNZfKZPra"
      },
      "execution_count": null,
      "outputs": []
    },
    {
      "cell_type": "code",
      "source": [
        "# 범주형 데이터의 price 상관관계\n",
        "# countplot -> hue\n",
        "\n",
        "df['neighbourhood_group'].unique().shape\n",
        "\n",
        "sns.boxplot(x='neighbourhood_group', y='price', data=df)\n",
        "\n"
      ],
      "metadata": {
        "id": "PiZEPptyJ8rc"
      },
      "execution_count": null,
      "outputs": []
    },
    {
      "cell_type": "code",
      "source": [
        "# 불필요해 보이는 컬럼 삭제\n",
        "\n",
        "df = df.drop(['id', 'name', 'host_name', 'latitude', 'longitude'], axis=1)\n",
        "df"
      ],
      "metadata": {
        "id": "xO0KXUm9Jik_"
      },
      "execution_count": null,
      "outputs": []
    },
    {
      "cell_type": "code",
      "source": [
        "# 데이터 클리닝 진행 1\n",
        "# 이상데이터(아웃라이어) 제거\n",
        "# quantile함수와 rugplot() 활용\n",
        "\n",
        "# quantile 10등분한 값중 어느쯤에 위치하는지\n",
        "\n",
        "arr = np.array(np.arange(11))\n",
        "\n",
        "sr = pd.Series(arr)\n",
        "sr.quantile(0.01) # 상위 1%\n",
        "\n",
        "sns.rugplot(x='price', data=df, height=1)\n",
        "\n",
        "df['price'].quantile(0.95)\n",
        "df['price'].quantile(0.01)\n"
      ],
      "metadata": {
        "id": "ERrHa41nKDFJ"
      },
      "execution_count": null,
      "outputs": []
    },
    {
      "cell_type": "code",
      "source": [
        "max = df['price'].quantile(0.95)\n",
        "min = df['price'].quantile(0.01)\n",
        "\n",
        "df = df[(df['price'] > min) & (df['price'] < max)]"
      ],
      "metadata": {
        "id": "0wxh2wVPhkrb"
      },
      "execution_count": 120,
      "outputs": []
    },
    {
      "cell_type": "code",
      "source": [
        "sns.jointplot(x='host_id', y='price', data=df)"
      ],
      "metadata": {
        "id": "7sUW9rz-iG-B"
      },
      "execution_count": null,
      "outputs": []
    },
    {
      "cell_type": "code",
      "source": [
        "sns.jointplot(x='number_of_reviews', y='price', data=df)\n",
        "# df.info()\n",
        "# df.describe()"
      ],
      "metadata": {
        "id": "4rIrLGK5ig33"
      },
      "execution_count": null,
      "outputs": []
    },
    {
      "cell_type": "code",
      "source": [
        "sns.boxplot(x='neighbourhood_group', y='price', data=df)"
      ],
      "metadata": {
        "id": "Eyv18vN_pyxm"
      },
      "execution_count": null,
      "outputs": []
    },
    {
      "cell_type": "code",
      "source": [
        "# minimum_nights의 아웃라이어 제거해 보기\n",
        "sns.rugplot(x='minimum_nights', data=df, height=1)\n",
        "\n",
        "max = df['minimum_nights'].quantile(0.95)\n",
        "min = df['minimum_nights'].quantile(0.01)\n",
        "print(max, min)\n",
        "\n",
        "max = df['minimum_nights'].quantile(0.95)\n",
        "min = df['minimum_nights'].quantile(0.01)\n",
        "\n",
        "df = df[(df['minimum_nights'] > min) & (df['minimum_nights'] < max)]\n",
        "df"
      ],
      "metadata": {
        "id": "szzqgXs9kRpf"
      },
      "execution_count": null,
      "outputs": []
    },
    {
      "cell_type": "code",
      "source": [
        "# 데이터 클리닝 진행2\n",
        "# 범주형 데이터 정리\n",
        "# availability_365의 경우 0이 너무 많으므로 범주형 데이터로 바꾸기\n",
        "\n",
        "df['availability_365'].value_counts()\n",
        "\n",
        "# 0은 의미를 가질수도 있고 갖지 않을 수도 있다. 숫자 데이터는 결측치로 0을 사용하는 경우가 많다.\n",
        "# 결측치 처리는 어떻게 하는가?\n",
        "# 결측치가 너무 많으면-> 결측치가 있는 행 제거\n",
        "# 한열에 결측치가 너무 많으면 -> 열 자체를 제거\n",
        "# 중앙값 넣기, 평균값 넣기\n",
        "# 전부 0처리 -> 권장X\n",
        "# 재가공\n",
        "\n",
        "# availability_365의 경우데 0인 데이터가 너무 많으므로 데이터를 아예 크게 0인것과 0이 아닌 범주형 데이터로 바꾸어 사용하는 방법을 사용한다.\n",
        "\n",
        "# availability_365 컬럼에서 값이 0인 것을 찾아 zerotype으로 바꿈\n",
        "dfc = df.copy()\n",
        "dfc.loc[dfc['availability_365'] == 0, 'availability_365'] = 'zerotype'\n",
        "\n"
      ],
      "metadata": {
        "id": "xhvKY7xEKI2h"
      },
      "execution_count": null,
      "outputs": []
    },
    {
      "cell_type": "code",
      "source": [
        "dfc.loc[dfc['availability_365'] != 'zerotype', 'availability_365'] = 'nonzero'\n",
        "dfc['availability_365'].unique()"
      ],
      "metadata": {
        "id": "zBpiL5cQyeNj"
      },
      "execution_count": 130,
      "outputs": []
    },
    {
      "cell_type": "code",
      "source": [
        "df.columns"
      ],
      "metadata": {
        "id": "_15GjLoArJc7"
      },
      "execution_count": null,
      "outputs": []
    },
    {
      "cell_type": "code",
      "source": [
        "# 미기입/오기입 데이터 처리하기\n",
        "# 새로운 데이터 유형으로 재가공\n",
        "# reviews_per_month, review_count는 같은 의미를 가진 결측치이므로 이 둘을 반영하기 위해 리뷰 있음/없음으로 재가공"
      ],
      "metadata": {
        "id": "ujsFX5hzKUaZ"
      },
      "execution_count": null,
      "outputs": []
    },
    {
      "cell_type": "code",
      "source": [
        "# 결측치 채우기\n",
        "# fillna 함수 활용"
      ],
      "metadata": {
        "id": "f7GeIGarLOdm"
      },
      "execution_count": null,
      "outputs": []
    },
    {
      "cell_type": "code",
      "source": [
        "# 데이터 전처리1\n",
        "# 범주형 데이터 ont-hot 인코딩"
      ],
      "metadata": {
        "id": "TogcBIv9LT5p"
      },
      "execution_count": null,
      "outputs": []
    },
    {
      "cell_type": "code",
      "source": [
        "# 데이터 전처리2\n",
        "# 수치형 데이터 표준화"
      ],
      "metadata": {
        "id": "PdxvpSYHLvAs"
      },
      "execution_count": null,
      "outputs": []
    },
    {
      "cell_type": "code",
      "source": [
        "# 훈련데이터와 타겟데이터 구분하고 훈련용, 테스트용 분리하기"
      ],
      "metadata": {
        "id": "86I-6-BwLzAl"
      },
      "execution_count": null,
      "outputs": []
    },
    {
      "cell_type": "code",
      "source": [
        "# 선형회귀 모델 학습 및 평가"
      ],
      "metadata": {
        "id": "_bg_YHYHL2MD"
      },
      "execution_count": null,
      "outputs": []
    }
  ]
}