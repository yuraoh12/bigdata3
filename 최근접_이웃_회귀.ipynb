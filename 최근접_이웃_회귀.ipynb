{
  "nbformat": 4,
  "nbformat_minor": 0,
  "metadata": {
    "colab": {
      "name": "최근접 이웃 회귀.ipynb",
      "provenance": [],
      "collapsed_sections": [],
      "authorship_tag": "ABX9TyMqNZKOOM4XG5hRrpXLBVAb",
      "include_colab_link": true
    },
    "kernelspec": {
      "name": "python3",
      "display_name": "Python 3"
    },
    "language_info": {
      "name": "python"
    }
  },
  "cells": [
    {
      "cell_type": "markdown",
      "metadata": {
        "id": "view-in-github",
        "colab_type": "text"
      },
      "source": [
        "<a href=\"https://colab.research.google.com/github/chacha86/BigData3/blob/colab/%EC%B5%9C%EA%B7%BC%EC%A0%91_%EC%9D%B4%EC%9B%83_%ED%9A%8C%EA%B7%80.ipynb\" target=\"_parent\"><img src=\"https://colab.research.google.com/assets/colab-badge.svg\" alt=\"Open In Colab\"/></a>"
      ]
    },
    {
      "cell_type": "code",
      "execution_count": null,
      "metadata": {
        "id": "3wbx2xSyVI4c"
      },
      "outputs": [],
      "source": [
        "import pandas as pd\n",
        "import numpy as np\n",
        "import matplotlib.pyplot as plt\n",
        "\n",
        "\n",
        "fish = pd.read_csv('/content/Fish.csv')\n",
        "fish\n",
        "\n",
        "# 도미의 길이로 무게를 예측\n",
        "perch_length = fish[fish['Species'] == 'Perch']['Length1'].values\n",
        "perch_weight = fish[fish['Species'] == 'Perch']['Weight'].values\n",
        "\n",
        "# 데이터 현황 시각화\n",
        "plt.scatter(perch_length, perch_weight)\n",
        "\n",
        "from sklearn.model_selection import train_test_split \n",
        "\n",
        "# 학습데이터 준비\n",
        "# 정답데이터\n",
        "\n",
        "# 테스트데이터 준비\n",
        "# 데스트데이터 정답 준비\n",
        "\n",
        "trd, tsd, trt, tst = train_test_split(perch_length, perch_weight, random_state=10) # 학습데이터와 테스트데이터로 나누어줌. 기본 비율 학습 75%, random_state는 데이터를 섞을 때 일관된 결과를 보장\n",
        "\n",
        "\n",
        "from sklearn.neighbors import KNeighborsRegressor\n",
        "\n",
        "knr = KNeighborsRegressor(n_neighbors=3) # n_neighbors값은 참고할 이웃의 개수를 결정\n",
        "# np.expand_dims(trd, axis=1)\n",
        "\n",
        "\n",
        "trd = trd.reshape(-1, 1) # 학습데이터는 2차원 배열이어야 한다.\n",
        "tsd = tsd.reshape(-1, 1)\n",
        "\n",
        "knr.fit(trd, trt) # 최근접 이웃 회귀 학습 진행\n",
        "\n",
        "knr.score(trd, trt), knr.score(tsd, tst) # 학습데이터로 평가 -> 잘 학습 했는지 확인. 테스트데이터로 평가 -> 잘 예측하는지\n",
        "# 학습데이터 평가지표가 높고, 테스트데이터 평가 지표가 낮으면 -> 특수한 데이터 상황(학습할 때 사용했던)에서만 적중률이 높다. => 과대적합(overfitting)\n",
        "# 학습데이터 평가지표가 낮고, 테스트데이터 평가 지표가 높으면 -> 학습이 제대로 되지 않았기 때문에 올바른 예측을 할 수가 없다. 과소적합(underfitting)\n",
        "# 학습데이터 평가지표가 낮고, 테스트데이터 평가 지표도 낮으면 -> 과소적합(underfitting)\n",
        "\n",
        "\n",
        "print(trd[3]) # 학습데이터의 3번 값\n",
        "print(trt[3]) # 학습데이터 3번에 대한 정답\n",
        "knr.predict(trd[3]) # 실제 정답과는 다르게 나옴. 최근접 이웃 회귀는 정해진 개수의 이웃을 선택해 평균을 내는 방식이기 때문.\n",
        "\n",
        "# 이웃을 많이 잡으면 일반적인 패턴에 잘 대응할 수 있으나 예측률이 떨어짐\n",
        "# 이웃을 적게 잡으면 특정 패턴에서 높은 예측률을 보이나 데이터가 바뀌면 정확도가 떨어짐.\n",
        "# k값을 잘 조정하면서 최적의 값을 찾아야함.\n"
      ]
    },
    {
      "cell_type": "code",
      "source": [
        "# 최근접 이웃 회귀의 단점\n",
        "# 데이터간의 거리를 이용해 이웃을 정하기 때문에 데이터 거리가 멀어지면 정확도가 떨어짐.\n",
        "\n",
        "# 실제 데이터간의 거리가 먼 경우를 시각화를 이용해 확인\n",
        "plt.scatter(perch_length, perch_weight)\n",
        "plt.scatter(40.1, 1100, marker='v')\n",
        "\n",
        "dist, idx = knr.kneighbors([[40.1]]) \n",
        "\n",
        "print(idx)\n",
        "# plt.scatter(trd[3], trt[3], marker=\"D\")\n",
        "# plt.scatter(trd[27], trt[27], marker=\"D\")\n",
        "# plt.scatter(trd[30], trt[30], marker=\"D\")\n",
        "\n",
        "knr.predict([[50.1]])\n",
        "plt.scatter(50.1, 1033, marker='*')\n",
        "\n",
        "\n",
        "dist, idx = knr.kneighbors([[100.1]]) # 일정 길이를 넘어가면 선택되는 이웃이 항상 같음.\n",
        "\n",
        "plt.scatter(trd[3], trt[3])\n",
        "plt.scatter(trd[27], trt[27])\n",
        "plt.scatter(trd[30], trt[30])"
      ],
      "metadata": {
        "id": "I36yYifTqd2s"
      },
      "execution_count": null,
      "outputs": []
    },
    {
      "cell_type": "code",
      "source": [
        ""
      ],
      "metadata": {
        "id": "588D0h8Od7N2"
      },
      "execution_count": null,
      "outputs": []
    }
  ]
}