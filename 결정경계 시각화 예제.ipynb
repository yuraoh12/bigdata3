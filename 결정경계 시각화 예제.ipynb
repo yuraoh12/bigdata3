{
  "nbformat": 4,
  "nbformat_minor": 0,
  "metadata": {
    "colab": {
      "name": "Untitled58.ipynb",
      "provenance": [],
      "authorship_tag": "ABX9TyMctXsgqIS08J2jojVnkIPx",
      "include_colab_link": true
    },
    "kernelspec": {
      "name": "python3",
      "display_name": "Python 3"
    },
    "language_info": {
      "name": "python"
    }
  },
  "cells": [
    {
      "cell_type": "markdown",
      "metadata": {
        "id": "view-in-github",
        "colab_type": "text"
      },
      "source": [
        "<a href=\"https://colab.research.google.com/github/chacha86/BigData3/blob/colab/%EA%B2%B0%EC%A0%95%EA%B2%BD%EA%B3%84%20%EC%8B%9C%EA%B0%81%ED%99%94%20%EC%98%88%EC%A0%9C.ipynb\" target=\"_parent\"><img src=\"https://colab.research.google.com/assets/colab-badge.svg\" alt=\"Open In Colab\"/></a>"
      ]
    },
    {
      "cell_type": "code",
      "execution_count": null,
      "metadata": {
        "colab": {
          "base_uri": "https://localhost:8080/",
          "height": 394
        },
        "id": "mzHgmhxCK6LZ",
        "outputId": "620d02cd-076f-4f5c-9854-90d74ef0c81e"
      },
      "outputs": [
        {
          "output_type": "stream",
          "name": "stdout",
          "text": [
            "['x0' 'x1' 'x0^2' 'x0 x1' 'x1^2']\n",
            "[0.] [[0.912 0.088]]\n",
            "[0.] [[0.855 0.145]]\n",
            "[0.] [[0.766 0.234]]\n",
            "[0.] [[0.638 0.362]]\n",
            "[1.] [[0.481 0.519]]\n"
          ]
        },
        {
          "output_type": "execute_result",
          "data": {
            "text/plain": [
              "<matplotlib.collections.PathCollection at 0x7fc64b6efb10>"
            ]
          },
          "metadata": {},
          "execution_count": 51
        },
        {
          "output_type": "display_data",
          "data": {
            "text/plain": [
              "<Figure size 432x288 with 1 Axes>"
            ],
            "image/png": "[encoded data removed]"
          },
          "metadata": {
            "needs_background": "light"
          }
        }
      ],
      "source": [
        "import pandas as pd\n",
        "import numpy as np\n",
        "import matplotlib.pyplot as plt\n",
        "\n",
        "np.random.seed(10)\n",
        "\n",
        "li1 = [] # 결정경계 바깥쪽 데이터\n",
        "li2 = [] # 결정경계 안쪽 데이터\n",
        "\n",
        "while True :\n",
        "  x = np.random.randint(-5, 5) * np.random.rand() # -5 ~ 5 사이의 실수 랜덤값 (x축)\n",
        "  y = np.random.randint(-5, 5) * np.random.rand() # -5 ~ 5 사이의 실수 랜덤값 (y축)\n",
        "\n",
        "  # 원의방정식(일반형) x, y의 계수 / 2 * -1  === 원의 중점\n",
        "  # 원의 반지름 -> 상수값(절대값) 제곱근\n",
        "  if len(li1) < 30 :\n",
        "    if x ** 2 + y ** 2 > 5 : # 원 바깥쪽\n",
        "      li1.append([x, y])\n",
        "\n",
        "  if len(li2) < 30 :\n",
        "    if x ** 2 + y ** 2 < 5 : # 원 안쪽\n",
        "      li2.append([x, y])\n",
        "\n",
        "  if len(li1) == 30 and len(li2) == 30 : # 각각 데이터 30개씩 마련\n",
        "    break\n",
        "\n",
        "# ndArray로 변환\n",
        "data1 = np.array(li1)\n",
        "data2 = np.array(li2)\n",
        "\n",
        "from sklearn.linear_model import LogisticRegression\n",
        "from sklearn.preprocessing import StandardScaler\n",
        "from sklearn.preprocessing import PolynomialFeatures \n",
        "from sklearn.model_selection import train_test_split\n",
        "\n",
        "# 학습데이터\n",
        "data = np.concatenate((data1, data2), axis=0)\n",
        "\n",
        "# 타겟데이터\n",
        "target1 = np.ones((30, 1))\n",
        "target2 = np.zeros((30, 1))\n",
        "\n",
        "target = np.concatenate((target1, target2), axis=0)\n",
        "target = target.reshape(-1)\n",
        "\n",
        "# 학습, 테스트 데이터 분리\n",
        "trd, tsd, trt, tst = train_test_split(data, target, random_state=10)\n",
        "\n",
        "# 원 모양의 결정경계를 그리기 위해 차수 올림\n",
        "poly = PolynomialFeatures(include_bias=False)\n",
        "\n",
        "poly.fit(trd, trt)\n",
        "print(poly.get_feature_names_out())\n",
        "\n",
        "trd_p = poly.transform(trd)\n",
        "tsd_p = poly.transform(tsd)\n",
        "\n",
        "\n",
        "# 로지스틱회귀 학습\n",
        "lr = LogisticRegression()\n",
        "\n",
        "lr.fit(trd_p, trt)\n",
        "lr.score(trd_p, trt), lr.score(tsd_p, tst)\n",
        "\n",
        "# 각 파라미터에 대한 계수(기울기)\n",
        "lr.coef_, lr.intercept_\n",
        "\n",
        "\n",
        "0.08 * x + 0.01 * y + 1.17 * x ** 2 + 1.43 * y ** 2\n",
        "\n",
        "# 원의 중점 구하기\n",
        "ox = 0.08 / 2 * -1\n",
        "oy = 0.01 / 2 * -1\n",
        "\n",
        "# 반지름 구하기\n",
        "r = 7.52\n",
        "r = np.sqrt(r)\n",
        "\n",
        "# 원 그래프 그리기\n",
        "circle = plt.Circle((ox, oy), r, fill=False)\n",
        "a = plt.axes(xlim=(np.min(data1[:, 0]), np.max(data1[:, 0])), ylim=(np.min(data1[:, 1]), np.max(data1[:, 1])))\n",
        "a.add_patch(circle)\n",
        "a.set_aspect('equal')\n",
        "\n",
        "# 데이터 산점도\n",
        "plt.scatter(data1[:, 0], data1[:, 1])\n",
        "plt.scatter(data2[:, 0], data2[:, 1])\n",
        "\n",
        "test1 = [[0,1.9]]\n",
        "test2 = [[0,2]]\n",
        "test3 = [[0,2.1]]\n",
        "test4 = [[0,2.2]]\n",
        "test5 = [[0,2.3]]\n",
        "\n",
        "test1_p = poly.transform(test1)\n",
        "test2_p = poly.transform(test2)\n",
        "test3_p = poly.transform(test3)\n",
        "test4_p = poly.transform(test4)\n",
        "test5_p = poly.transform(test5)\n",
        "\n",
        "print(lr.predict(test1_p), np.round(lr.predict_proba(test1_p), decimals=3)) \n",
        "print(lr.predict(test2_p), np.round(lr.predict_proba(test2_p), decimals=3)) \n",
        "print(lr.predict(test3_p), np.round(lr.predict_proba(test3_p), decimals=3)) \n",
        "print(lr.predict(test4_p), np.round(lr.predict_proba(test4_p), decimals=3)) \n",
        "print(lr.predict(test5_p), np.round(lr.predict_proba(test5_p), decimals=3)) \n",
        "\n",
        "plt.scatter(0, 1.9, marker='x')\n",
        "plt.scatter(0, 2, marker='x')\n",
        "plt.scatter(0, 2.1, marker='x')\n",
        "plt.scatter(0, 2.2, marker='x')\n",
        "plt.scatter(0, 2.3, marker='x')"
      ]
    },
    {
      "cell_type": "code",
      "source": [
        "ㅈ"
      ],
      "metadata": {
        "id": "CHKn_TR8LL_D"
      },
      "execution_count": null,
      "outputs": []
    }
  ]
}