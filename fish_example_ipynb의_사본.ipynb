{
  "nbformat": 4,
  "nbformat_minor": 0,
  "metadata": {
    "colab": {
      "name": "fish_example.ipynb의 사본",
      "provenance": [],
      "collapsed_sections": [],
      "authorship_tag": "ABX9TyONM5PmNweIoFLfIntYGuzd",
      "include_colab_link": true
    },
    "kernelspec": {
      "name": "python3",
      "display_name": "Python 3"
    },
    "language_info": {
      "name": "python"
    }
  },
  "cells": [
    {
      "cell_type": "markdown",
      "metadata": {
        "id": "view-in-github",
        "colab_type": "text"
      },
      "source": [
        "<a href=\"https://colab.research.google.com/github/chacha86/BigData3/blob/colab/fish_example_ipynb%EC%9D%98_%EC%82%AC%EB%B3%B8.ipynb\" target=\"_parent\"><img src=\"https://colab.research.google.com/assets/colab-badge.svg\" alt=\"Open In Colab\"/></a>"
      ]
    },
    {
      "cell_type": "code",
      "execution_count": 23,
      "metadata": {
        "id": "-TmRWVF11eDy",
        "colab": {
          "base_uri": "https://localhost:8080/"
        },
        "outputId": "666e81d7-89ae-4e53-a161-271cb332895e"
      },
      "outputs": [
        {
          "output_type": "stream",
          "name": "stdout",
          "text": [
            "[[0.2 0.6 0.  0.  0.2 0.  0. ]]\n",
            "['Bream' 'Parkki' 'Perch' 'Pike' 'Roach' 'Smelt' 'Whitefish']\n",
            "0.9411764705882353 0.925\n",
            "[[0.29  0.485 0.    0.    0.199 0.    0.025]]\n",
            "['Bream' 'Parkki' 'Perch' 'Pike' 'Roach' 'Smelt' 'Whitefish']\n"
          ]
        }
      ],
      "source": [
        "import pandas as pd\n",
        "import numpy as np\n",
        "import matplotlib.pyplot as plt\n",
        "\n",
        "# 1. 최근접 이웃 분류를 이용해 분류하고 확률 구하기\n",
        "\n",
        "df = pd.read_csv('/content/Fish.csv')\n",
        "\n",
        "df['Species'].unique()\n",
        "\n",
        "trd = df.iloc[:, 1:]\n",
        "trt = df['Species']\n",
        "\n",
        "from sklearn.model_selection import train_test_split\n",
        "from sklearn.preprocessing import StandardScaler\n",
        "from sklearn.neighbors import KNeighborsClassifier\n",
        "\n",
        "trd, tsd, trt, tst = train_test_split(trd.values, trt.values, random_state=42)\n",
        "ss = StandardScaler()\n",
        "ss.fit(trd)\n",
        "trd_s = ss.transform(trd)\n",
        "tsd_s = ss.transform(tsd)\n",
        "\n",
        "pre = [[230, 21, 24, 29, 10.5, 3.8]]\n",
        "pre_s = ss.transform(pre)\n",
        "\n",
        "knc = KNeighborsClassifier()\n",
        "knc.fit(trd_s, trt)\n",
        "knc.predict(pre_s)\n",
        "print(knc.predict_proba(pre_s))\n",
        "print(knc.classes_) # 분류 기준(class)\n",
        "\n",
        "# 최근접 이웃 분류 알고리즘에서 확률를 구하는 원리 => 전체 이웃의 개수에서 각 클래스가 가지는 비율 \n",
        "# ex) 이웃 10개 중 Perch 3개 Perch일 확률 30%\n",
        "# 하지만 분류 기준이 3개면. 0, 1/3, 2/3, 100. 확률값을 올바르게 나타낼 수가 없다.\n",
        "# 최근접 이웃 분류의 한계 \n",
        "#   => 최근접 이웃 알고리즘는 준비되어 있는 데이터를 대상으로 이웃을 찾기 때문에 준비되어 있지 않은 데이터에 대해서는 예측 정확도가 많이 떨어지고 많은 데이터를 처리해야 하므로 성능이 좋지 않다.\n",
        "\n",
        "\n",
        "# 그래서 사용하는 분류 알고리즘이 로지스틱 회귀 알고리즘.\n",
        "# 로지스틱 회귀에서 회귀식(선)은 결정경계(분류를 가르는 기준선) 역할을 한다.\n",
        "# 샘플의 결정경계 값이 0보다 크면 타겟(1)과 일치한다고 보고 그렇지 않으면 논타겟(0)과 일치한다고 본다.\n",
        "# 샘플의 결정경계 값이 크면 클수록 타겟과 일치할 확률이 높은데 결정경계값이 확률을 표현하는 값의 범위를 넘어버리기 때문에,\n",
        "# 값을 시그모이드라는 함수에 넣어서 0 ~ 1사이의 확률값은 얻는 방식.\n",
        "\n",
        "# 로지스틱 회귀 이용해서 학습하고 예측하기\n",
        "trd_s\n",
        "tsd_s\n",
        "\n",
        "from sklearn.linear_model import LogisticRegression\n",
        "\n",
        "# 로지스틱회귀는 규제적용 되어 있음(릿지 방식의 규제 적용 되어 있음)\n",
        "lr = LogisticRegression()\n",
        "\n",
        "lr.max_iter = 1000 # 학습을 위한 반복횟수(너무 적으면 제대로된 학습을 못할 수 있다)\n",
        "lr.C = 20 # 규제 파라미터. 큰 값을 넣을 수록 규제를 완화한다.\n",
        "\n",
        "lr.fit(trd_s, trt)\n",
        "print(lr.score(trd_s, trt), lr.score(tsd_s, tst))\n",
        "\n",
        "pre = [[230, 21, 24, 29, 10.5, 3.8]] # 예측하고자 하는 데이터\n",
        "pre_s = ss.transform(pre)\n",
        "lr.predict(pre_s)\n",
        "\n",
        "proba_rst = lr.predict_proba(pre_s) # 예측 결과(확률)\n",
        "print(np.round(proba_rst, decimals=3)) # 반올림해서 소수점 3자리까지\n",
        "print(lr.classes_) # 분류 카테고리\n",
        "\n",
        "\n",
        "\n"
      ]
    },
    {
      "cell_type": "code",
      "source": [
        ""
      ],
      "metadata": {
        "id": "EJJ9Ao6y-kvq"
      },
      "execution_count": null,
      "outputs": []
    }
  ]
}