{
  "nbformat": 4,
  "nbformat_minor": 0,
  "metadata": {
    "colab": {
      "provenance": [],
      "authorship_tag": "ABX9TyNgCCx9efNlgjRELcmBxRS6",
      "include_colab_link": true
    },
    "kernelspec": {
      "name": "python3",
      "display_name": "Python 3"
    },
    "language_info": {
      "name": "python"
    }
  },
  "cells": [
    {
      "cell_type": "markdown",
      "metadata": {
        "id": "view-in-github",
        "colab_type": "text"
      },
      "source": [
        "<a href=\"https://colab.research.google.com/github/chacha86/pythonai/blob/main/%EB%A8%B8%EC%8B%A0%EB%9F%AC%EB%8B%9D1.ipynb\" target=\"_parent\"><img src=\"https://colab.research.google.com/assets/colab-badge.svg\" alt=\"Open In Colab\"/></a>"
      ]
    },
    {
      "cell_type": "code",
      "execution_count": null,
      "metadata": {
        "id": "BKGbMdISgyLj"
      },
      "outputs": [],
      "source": [
        "# 머신러닝 > 기계학습 > 데이터의 패턴을 바탕으로 새로운 데이터 추측\n",
        "# 지도학습 -> 답을 알려주는 것\n",
        "# 비지도학습 -> 답을 알려주지 않는 것\n"
      ]
    },
    {
      "cell_type": "code",
      "source": [
        "# 지도학습 \n",
        "## 학생이 공부하는 것과 비슷\n",
        "## 학습 데이터 -> 교과서, 문제집\n",
        "## 학습 타겟 데이터 -> 문제 답\n",
        "## 테스트 데이터 -> 모의 고사\n",
        "## 테스트 타겟 데이터 -> 문제 답\n",
        "\n",
        "## 예측 데이터 -> 수능(본고사)\n",
        "\n",
        "## 모의고사 점수를 높이는 것 -> 모델 튜닝\n",
        "## 모의고사 점수 -> 모델 평가\n",
        "\n"
      ],
      "metadata": {
        "id": "inEFe7Kmhg_N"
      },
      "execution_count": null,
      "outputs": []
    },
    {
      "cell_type": "code",
      "source": [
        "# 머신러닝 프로세스"
      ],
      "metadata": {
        "id": "Uk_EUTkqiSwh"
      },
      "execution_count": null,
      "outputs": []
    },
    {
      "cell_type": "code",
      "source": [
        "## 1. 데이터 준비\n",
        "import pandas as pd\n",
        "import numpy as np\n",
        "import matplotlib.pyplot as plt\n",
        "import seaborn as sns\n",
        "df = pd.read_csv('/content/Fish.csv')\n",
        "df"
      ],
      "metadata": {
        "id": "2tNGP4xPkGKt"
      },
      "execution_count": null,
      "outputs": []
    },
    {
      "cell_type": "code",
      "source": [
        "df.info()"
      ],
      "metadata": {
        "id": "5IswX7nuZFi0"
      },
      "execution_count": null,
      "outputs": []
    },
    {
      "cell_type": "code",
      "source": [
        "## 2. 탐색적 분석\n",
        "# df.info()\n",
        "# df.describe()\n",
        "\n",
        "df.head()\n",
        "df.tail()\n",
        "\n",
        "\n",
        "fig , ax = plt.subplots(ncols=3, figsize=(15, 5))\n",
        "\n",
        "# 어종 분포 \n",
        "sns.countplot(data=df, x='Species', ax=ax[0])\n",
        "\n",
        "# 어종의 평균 길이\n",
        "sns.barplot(data=df, x='Species', y='Length1', errorbar=None, ax=ax[1])\n",
        "\n",
        "# 어종의 평균 무게\n",
        "sns.barplot(data=df, x='Species', y='Weight', errorbar=None, ax=ax[2])\n",
        "# 어종의 평균 너비\n",
        "# 어종의 평균 높이\n",
        "\n"
      ],
      "metadata": {
        "id": "frzFGbPxl0X8"
      },
      "execution_count": null,
      "outputs": []
    },
    {
      "cell_type": "code",
      "source": [
        "## 3. 상관관계 분석\n",
        "## pairplot\n",
        "sns.pairplot(df[['Length1', 'Weight', 'Height', 'Width']])\n",
        "\n",
        "## 어종은 -> bream, smelt,\n",
        "## 특성 -> Length1, Weight\n"
      ],
      "metadata": {
        "id": "y2I5AqpUZ6mf"
      },
      "execution_count": null,
      "outputs": []
    },
    {
      "cell_type": "code",
      "source": [
        "## 4. 결측치, 이상치, 불필요한 데이터 등등 -> 데이터 전처리\n",
        "df2 = df[['Species', 'Length1', 'Weight']]\n",
        "df3 = df2[(df2['Species'] == 'Bream') | (df2['Species'] == 'Smelt')]"
      ],
      "metadata": {
        "id": "hxxnvcziaq81"
      },
      "execution_count": null,
      "outputs": []
    },
    {
      "cell_type": "code",
      "source": [
        "df3\n",
        "## 5. 특성 처리 -> 추후에\n"
      ],
      "metadata": {
        "id": "YeYGaG3Ill3q"
      },
      "execution_count": null,
      "outputs": []
    },
    {
      "cell_type": "code",
      "source": [
        "## 6. 학습\n",
        "## 최근접 이웃 알고리즘\n",
        "## sklearn\n",
        "\n",
        "from sklearn.neighbors import KNeighborsClassifier\n",
        "kn = KNeighborsClassifier()\n",
        "\n",
        "## fit(문제집, 답안지)\n",
        "## transform()\n",
        "## score()\n",
        "## predict()\n",
        "\n",
        "trd = df3[['Length1', 'Weight']] # 문제집\n",
        "trt = df3['Species'] # 답안지\n",
        "\n",
        "kn.fit(trd, trt)\n"
      ],
      "metadata": {
        "id": "aDJw9Z1ydAIc"
      },
      "execution_count": null,
      "outputs": []
    },
    {
      "cell_type": "code",
      "source": [
        "## 7. 예측 및 평가\n",
        "kn.score(trd, trt) # 0 ~ 1점\n",
        "kn.predict(trd.iloc[[0], :])\n",
        "\n"
      ],
      "metadata": {
        "id": "VtcpemhwfUBH"
      },
      "execution_count": null,
      "outputs": []
    },
    {
      "cell_type": "code",
      "source": [
        "df3"
      ],
      "metadata": {
        "id": "EFN8Jetlj5Zx"
      },
      "execution_count": null,
      "outputs": []
    },
    {
      "cell_type": "code",
      "source": [
        "## 최근접 이웃 알고리즘 -> \n",
        "## 예측 대상의 이웃을 k개를 뽑아서 이웃들 중 가장 많은 것을 정답으로 예측한다.\n",
        "\n",
        "## 어종 분포 시각화\n",
        "sns.scatterplot(data=df3, x='Length1', y='Weight', hue='Species')\n",
        "\n",
        "## 점 찍기\n",
        "plt.scatter(x=10, y=100, color='red', marker='x')\n",
        "plt.scatter(x=25, y=150, color='green', marker='^')\n",
        "\n"
      ],
      "metadata": {
        "colab": {
          "base_uri": "https://localhost:8080/",
          "height": 467
        },
        "id": "TOnhST6pjDEZ",
        "outputId": "154cc592-5901-4f2b-ae7e-5170872660cb"
      },
      "execution_count": null,
      "outputs": [
        {
          "output_type": "execute_result",
          "data": {
            "text/plain": [
              "<matplotlib.collections.PathCollection at 0x7ff27ae9a800>"
            ]
          },
          "metadata": {},
          "execution_count": 112
        },
        {
          "output_type": "display_data",
          "data": {
            "text/plain": [
              "<Figure size 640x480 with 1 Axes>"
            ],
            "image/png": "[encoded data removed]"
          },
          "metadata": {}
        }
      ]
    },
    {
      "cell_type": "code",
      "source": [
        "trd.shape"
      ],
      "metadata": {
        "id": "FigZyvz7lzOg"
      },
      "execution_count": null,
      "outputs": []
    },
    {
      "cell_type": "code",
      "source": [
        "## kn의 이웃수 바꿔보기\n",
        "kn2 = KNeighborsClassifier()\n",
        "kn2.n_neighbors = 49\n",
        "\n",
        "## 학습\n",
        "kn2.fit(trd, trt)\n",
        "kn2.predict([[1,1]])\n",
        "\n",
        "df3.shape\n",
        "df3['Species'].value_counts()\n"
      ],
      "metadata": {
        "id": "UCcec8gGlRQx"
      },
      "execution_count": null,
      "outputs": []
    },
    {
      "cell_type": "code",
      "source": [
        "kn2.n_neighbors = 5\n",
        "kn2.fit(trd, trt)\n",
        "kn2.predict([[25,150]]) # Bream"
      ],
      "metadata": {
        "id": "Kmf5SH4NmuxE"
      },
      "execution_count": null,
      "outputs": []
    },
    {
      "cell_type": "code",
      "source": [
        "# 8. 학습데이터와 테스트데이터 분리\n",
        "## 문제점 -> 아무리 봐도 bream인데 smelt라고 한다.\n",
        "## 데이터 분리 -> 가지고 있는 전체 데이터(얼만큼은 공부용, 얼만큼은 시험용)\n",
        "## 7 : 3, 7.5 : 2.5, 8 : 2\n",
        "\n",
        "## trd(문제지), trt(정답지)\n",
        "## 7:3 비율로 공부용/ 시험용으로 나누기.\n",
        "\n",
        "t_idx = int(df3.shape[0] * 0.7) # 34\n",
        "\n",
        "trd = df3.iloc[:t_idx, ] # 학습용\n",
        "tsd = df3.iloc[t_idx : , ] # 시험용\n",
        "\n",
        "## 데이터가 편향되어 있음\n",
        "df3['Species'].value_counts()\n",
        "\n",
        "print(35 / 49, 14 / 49)\n",
        "\n",
        "## 판다스 데이터프레임 섞기\n",
        "df4 = df3.sample(frac=1, random_state=42).reset_index(drop=True)\n",
        "\n",
        "trd2 = df4.iloc[:t_idx, ]\n",
        "tsd2 = df4.iloc[t_idx:, ]\n",
        "\n",
        "trd2['Species'].value_counts()\n",
        "print(26 / 34, 8 / 34)\n",
        "\n",
        "trt2 = trd2['Species'] # 학습용 정답\n",
        "tst2 = tsd2['Species'] # 시험용 정답\n",
        "trd2 = trd2[['Length1', 'Weight']] # 학습용 문제\n",
        "tsd2 = tsd2[['Length1', 'Weight']] # 시험용 문제\n",
        "\n",
        "## 학습\n",
        "kn2.fit(trd2, trt2)\n",
        "kn2.score(tsd2, tst2) # 100% 평가\n",
        "\n",
        "\n",
        "kn2.predict([[25, 150]])\n",
        "## 학습데이터와 시험용 데이터로 공부는 잘 시켰음에도 불구하고, 문제가 있다.\n"
      ],
      "metadata": {
        "id": "dY3uT9LBm0k2"
      },
      "execution_count": null,
      "outputs": []
    },
    {
      "cell_type": "code",
      "source": [
        "## 9. 튜닝\n",
        "## 데이터 튜닝 - 표준화\n",
        "\n",
        "## 너가 뽑은 이웃 5개의 정보를 보여줘\n",
        "k_dist, k_idx = kn2.kneighbors([[25, 150]])\n",
        "\n",
        "k_idx # numpy의 ndarray\n",
        "k_idx_1d = k_idx.reshape(5) # numpy 배열의 모양 바꾸기\n",
        "\n",
        "neighbors_fish = trd2.iloc[k_idx_1d, :]\n",
        "#trt2[k_idx_1d]\n",
        "\n",
        "neighbors_fish\n",
        "\n"
      ],
      "metadata": {
        "id": "bFU6n7Hzu-YS"
      },
      "execution_count": null,
      "outputs": []
    },
    {
      "cell_type": "code",
      "source": [
        "sns.scatterplot(data=df3, x='Length1', y='Weight', hue='Species')\n",
        "plt.scatter(x=25, y=150, marker='x', color='red')\n",
        "plt.scatter(x=neighbors_fish['Length1'], y=neighbors_fish['Weight'], color='purple')\n",
        "\n",
        "\n",
        "## 두 축의 기준이 달라서 민감도가 다르다.\n",
        "plt.xlim([0, 1000])"
      ],
      "metadata": {
        "id": "KNGkiEeG0h5V"
      },
      "execution_count": null,
      "outputs": []
    },
    {
      "cell_type": "code",
      "source": [
        "## 표준화 -> 같은 기준에 놓고 보겠다.\n",
        "\n",
        "mean = trd2.mean(axis=0)\n",
        "std = trd2.std(axis=0)\n",
        "\n",
        "\n",
        "scaled_trd = (trd2 - mean) / std\n",
        "\n",
        "\n",
        "sns.scatterplot(data=scaled_trd, x='Length1', y='Weight')\n",
        "\n",
        "#s1 = pd.Series([1,2,3,4])\n",
        "target = pd.DataFrame([[25, 150]], columns=['Length1', 'Weight'])           \n",
        "scaled_target = (target - mean) / std\n",
        "plt.scatter(x=scaled_target['Length1'], y=scaled_target['Weight'], color='red', marker='x')\n",
        "\n"
      ],
      "metadata": {
        "id": "jexca4-4c8Q3"
      },
      "execution_count": null,
      "outputs": []
    },
    {
      "cell_type": "code",
      "source": [
        "## 10. 재학습 및 평가\n",
        "kn2.fit(scaled_trd, trt2)\n",
        "\n"
      ],
      "metadata": {
        "colab": {
          "base_uri": "https://localhost:8080/",
          "height": 74
        },
        "id": "iPYhTbht2GHe",
        "outputId": "a9743f49-07bf-4a35-e947-a1ff9a219403"
      },
      "execution_count": null,
      "outputs": [
        {
          "output_type": "execute_result",
          "data": {
            "text/plain": [
              "KNeighborsClassifier()"
            ],
            "text/html": [
              "<style>#sk-container-id-9 {color: black;background-color: white;}#sk-container-id-9 pre{padding: 0;}#sk-container-id-9 div.sk-toggleable {background-color: white;}#sk-container-id-9 label.sk-toggleable__label {cursor: pointer;display: block;width: 100%;margin-bottom: 0;padding: 0.3em;box-sizing: border-box;text-align: center;}#sk-container-id-9 label.sk-toggleable__label-arrow:before {content: \"▸\";float: left;margin-right: 0.25em;color: #696969;}#sk-container-id-9 label.sk-toggleable__label-arrow:hover:before {color: black;}#sk-container-id-9 div.sk-estimator:hover label.sk-toggleable__label-arrow:before {color: black;}#sk-container-id-9 div.sk-toggleable__content {max-height: 0;max-width: 0;overflow: hidden;text-align: left;background-color: #f0f8ff;}#sk-container-id-9 div.sk-toggleable__content pre {margin: 0.2em;color: black;border-radius: 0.25em;background-color: #f0f8ff;}#sk-container-id-9 input.sk-toggleable__control:checked~div.sk-toggleable__content {max-height: 200px;max-width: 100%;overflow: auto;}#sk-container-id-9 input.sk-toggleable__control:checked~label.sk-toggleable__label-arrow:before {content: \"▾\";}#sk-container-id-9 div.sk-estimator input.sk-toggleable__control:checked~label.sk-toggleable__label {background-color: #d4ebff;}#sk-container-id-9 div.sk-label input.sk-toggleable__control:checked~label.sk-toggleable__label {background-color: #d4ebff;}#sk-container-id-9 input.sk-hidden--visually {border: 0;clip: rect(1px 1px 1px 1px);clip: rect(1px, 1px, 1px, 1px);height: 1px;margin: -1px;overflow: hidden;padding: 0;position: absolute;width: 1px;}#sk-container-id-9 div.sk-estimator {font-family: monospace;background-color: #f0f8ff;border: 1px dotted black;border-radius: 0.25em;box-sizing: border-box;margin-bottom: 0.5em;}#sk-container-id-9 div.sk-estimator:hover {background-color: #d4ebff;}#sk-container-id-9 div.sk-parallel-item::after {content: \"\";width: 100%;border-bottom: 1px solid gray;flex-grow: 1;}#sk-container-id-9 div.sk-label:hover label.sk-toggleable__label {background-color: #d4ebff;}#sk-container-id-9 div.sk-serial::before {content: \"\";position: absolute;border-left: 1px solid gray;box-sizing: border-box;top: 0;bottom: 0;left: 50%;z-index: 0;}#sk-container-id-9 div.sk-serial {display: flex;flex-direction: column;align-items: center;background-color: white;padding-right: 0.2em;padding-left: 0.2em;position: relative;}#sk-container-id-9 div.sk-item {position: relative;z-index: 1;}#sk-container-id-9 div.sk-parallel {display: flex;align-items: stretch;justify-content: center;background-color: white;position: relative;}#sk-container-id-9 div.sk-item::before, #sk-container-id-9 div.sk-parallel-item::before {content: \"\";position: absolute;border-left: 1px solid gray;box-sizing: border-box;top: 0;bottom: 0;left: 50%;z-index: -1;}#sk-container-id-9 div.sk-parallel-item {display: flex;flex-direction: column;z-index: 1;position: relative;background-color: white;}#sk-container-id-9 div.sk-parallel-item:first-child::after {align-self: flex-end;width: 50%;}#sk-container-id-9 div.sk-parallel-item:last-child::after {align-self: flex-start;width: 50%;}#sk-container-id-9 div.sk-parallel-item:only-child::after {width: 0;}#sk-container-id-9 div.sk-dashed-wrapped {border: 1px dashed gray;margin: 0 0.4em 0.5em 0.4em;box-sizing: border-box;padding-bottom: 0.4em;background-color: white;}#sk-container-id-9 div.sk-label label {font-family: monospace;font-weight: bold;display: inline-block;line-height: 1.2em;}#sk-container-id-9 div.sk-label-container {text-align: center;}#sk-container-id-9 div.sk-container {/* jupyter's `normalize.less` sets `[hidden] { display: none; }` but bootstrap.min.css set `[hidden] { display: none !important; }` so we also need the `!important` here to be able to override the default hidden behavior on the sphinx rendered scikit-learn.org. See: https://github.com/scikit-learn/scikit-learn/issues/21755 */display: inline-block !important;position: relative;}#sk-container-id-9 div.sk-text-repr-fallback {display: none;}</style><div id=\"sk-container-id-9\" class=\"sk-top-container\"><div class=\"sk-text-repr-fallback\"><pre>KNeighborsClassifier()</pre><b>In a Jupyter environment, please rerun this cell to show the HTML representation or trust the notebook. <br />On GitHub, the HTML representation is unable to render, please try loading this page with nbviewer.org.</b></div><div class=\"sk-container\" hidden><div class=\"sk-item\"><div class=\"sk-estimator sk-toggleable\"><input class=\"sk-toggleable__control sk-hidden--visually\" id=\"sk-estimator-id-9\" type=\"checkbox\" checked><label for=\"sk-estimator-id-9\" class=\"sk-toggleable__label sk-toggleable__label-arrow\">KNeighborsClassifier</label><div class=\"sk-toggleable__content\"><pre>KNeighborsClassifier()</pre></div></div></div></div></div>"
            ]
          },
          "metadata": {},
          "execution_count": 162
        }
      ]
    },
    {
      "cell_type": "code",
      "source": [
        "kn2.predict(scaled_target)"
      ],
      "metadata": {
        "colab": {
          "base_uri": "https://localhost:8080/"
        },
        "id": "aCBCgqBc5UT_",
        "outputId": "4996488b-cf9b-401e-e9a1-ea905b6b05ea"
      },
      "execution_count": null,
      "outputs": [
        {
          "output_type": "execute_result",
          "data": {
            "text/plain": [
              "array(['Bream'], dtype=object)"
            ]
          },
          "metadata": {},
          "execution_count": 163
        }
      ]
    }
  ]
}