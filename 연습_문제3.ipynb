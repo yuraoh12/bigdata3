{
  "nbformat": 4,
  "nbformat_minor": 0,
  "metadata": {
    "colab": {
      "name": "연습 문제3.ipynb",
      "provenance": [],
      "authorship_tag": "ABX9TyMD3ZTMpWKUCSrYnqQu5KzU",
      "include_colab_link": true
    },
    "kernelspec": {
      "name": "python3",
      "display_name": "Python 3"
    },
    "language_info": {
      "name": "python"
    }
  },
  "cells": [
    {
      "cell_type": "markdown",
      "metadata": {
        "id": "view-in-github",
        "colab_type": "text"
      },
      "source": [
        "<a href=\"https://colab.research.google.com/github/chacha86/BigData3/blob/colab/%EC%97%B0%EC%8A%B5_%EB%AC%B8%EC%A0%9C3.ipynb\" target=\"_parent\"><img src=\"https://colab.research.google.com/assets/colab-badge.svg\" alt=\"Open In Colab\"/></a>"
      ]
    },
    {
      "cell_type": "code",
      "execution_count": null,
      "metadata": {
        "id": "Ozsvu7MrJQoa"
      },
      "outputs": [],
      "source": [
        "import pandas as pd\n",
        "import numpy as np\n",
        "import matplotlib.pyplot as plt\n",
        "import seaborn as sns\n",
        "\n",
        "# 데이터 설명\n",
        "# id: 일련번호\n",
        "# name: AirBnB 이름\n",
        "# host_id: 호스트 ID  \n",
        "# host_name: 호스트 성명 \n",
        "# neighbourhood_group: 지구명\n",
        "# neighbourhood : 지역명\n",
        "# latitude: 위도  \n",
        "# longitude: 경도  \n",
        "# room_type: 방 타입  \n",
        "# price: 가격  \n",
        "# minimum_nights: 최소 숙박일수  \n",
        "# number_of_reviews: 리뷰 개수\n",
        "# last_review: 최근 리뷰 일자\n",
        "# reviews_per_month: 월 평균 리뷰 수\n",
        "# calculated_host_listings_count:  호스트에게 대여 가능한 에어비앤비의 총 개수\n",
        "# availability_365: 1년 중 가능한 대여일\n"
      ]
    },
    {
      "cell_type": "code",
      "source": [
        "# 수치형데이터와 price의 상관관계\n",
        "# jointplot 활용"
      ],
      "metadata": {
        "id": "dMsy1-2jJ7bC"
      },
      "execution_count": null,
      "outputs": []
    },
    {
      "cell_type": "code",
      "source": [
        "# 범주형 데이터의 price 상관관계"
      ],
      "metadata": {
        "id": "PiZEPptyJ8rc"
      },
      "execution_count": null,
      "outputs": []
    },
    {
      "cell_type": "code",
      "source": [
        "# 불필요해 보이는 컬럼 삭제\n"
      ],
      "metadata": {
        "id": "xO0KXUm9Jik_"
      },
      "execution_count": null,
      "outputs": []
    },
    {
      "cell_type": "code",
      "source": [
        "# 데이터 클리닝 진행 1\n",
        "# 이상데이터(아웃라이어) 제거\n",
        "# quantile함수와 rugplot() 활용"
      ],
      "metadata": {
        "id": "ERrHa41nKDFJ"
      },
      "execution_count": null,
      "outputs": []
    },
    {
      "cell_type": "code",
      "source": [
        "# 데이터 클리닝 진행2\n",
        "# 범주형 데이터 정리\n",
        "# availability_365의 경우 0이 너무 많으므로 범주형 데이터로 바꾸기\n",
        "# "
      ],
      "metadata": {
        "id": "xhvKY7xEKI2h"
      },
      "execution_count": null,
      "outputs": []
    },
    {
      "cell_type": "code",
      "source": [
        "# 미기입/오기입 데이터 처리하기\n",
        "# 새로운 데이터 유형으로 재가공\n",
        "# reviews_per_month, review_count는 같은 의미를 가진 결측치이므로 이 둘을 반영하기 위해 리뷰 있음/없음으로 재가공"
      ],
      "metadata": {
        "id": "ujsFX5hzKUaZ"
      },
      "execution_count": null,
      "outputs": []
    },
    {
      "cell_type": "code",
      "source": [
        "# 결측치 채우기\n",
        "# fillna 함수 활용"
      ],
      "metadata": {
        "id": "f7GeIGarLOdm"
      },
      "execution_count": null,
      "outputs": []
    },
    {
      "cell_type": "code",
      "source": [
        "# 데이터 전처리1\n",
        "# 범주형 데이터 ont-hot 인코딩"
      ],
      "metadata": {
        "id": "TogcBIv9LT5p"
      },
      "execution_count": null,
      "outputs": []
    },
    {
      "cell_type": "code",
      "source": [
        "# 데이터 전처리2\n",
        "# 수치형 데이터 표준화"
      ],
      "metadata": {
        "id": "PdxvpSYHLvAs"
      },
      "execution_count": null,
      "outputs": []
    },
    {
      "cell_type": "code",
      "source": [
        "# 훈련데이터와 타겟데이터 구분하고 훈련용, 테스트용 분리하기"
      ],
      "metadata": {
        "id": "86I-6-BwLzAl"
      },
      "execution_count": null,
      "outputs": []
    },
    {
      "cell_type": "code",
      "source": [
        "# 선형회귀 모델 학습 및 평가"
      ],
      "metadata": {
        "id": "_bg_YHYHL2MD"
      },
      "execution_count": null,
      "outputs": []
    }
  ]
}