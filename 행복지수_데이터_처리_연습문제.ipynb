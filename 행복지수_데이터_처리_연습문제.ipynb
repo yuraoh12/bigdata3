{
  "nbformat": 4,
  "nbformat_minor": 0,
  "metadata": {
    "colab": {
      "name": "행복지수 데이터 처리 연습문제.ipynb",
      "provenance": [],
      "authorship_tag": "ABX9TyNXpmIgIce7kUbSHCjgT4Mf",
      "include_colab_link": true
    },
    "kernelspec": {
      "name": "python3",
      "display_name": "Python 3"
    },
    "language_info": {
      "name": "python"
    }
  },
  "cells": [
    {
      "cell_type": "markdown",
      "metadata": {
        "id": "view-in-github",
        "colab_type": "text"
      },
      "source": [
        "<a href=\"https://colab.research.google.com/github/chacha86/BigData3/blob/colab/%ED%96%89%EB%B3%B5%EC%A7%80%EC%88%98_%EB%8D%B0%EC%9D%B4%ED%84%B0_%EC%B2%98%EB%A6%AC_%EC%97%B0%EC%8A%B5%EB%AC%B8%EC%A0%9C.ipynb\" target=\"_parent\"><img src=\"https://colab.research.google.com/assets/colab-badge.svg\" alt=\"Open In Colab\"/></a>"
      ]
    },
    {
      "cell_type": "code",
      "execution_count": null,
      "metadata": {
        "id": "8gfayD-RIW8G"
      },
      "outputs": [],
      "source": [
        "import pandas as pd\n",
        "import numpy as np\n",
        "import matplotlib.pyplot as plt\n",
        "import seaborn as sns\n",
        "\n",
        "# 데이터 설명\n",
        "# Country: 국가\n",
        "# Region: 국가의 지역\n",
        "# Happiness Rank: 행복지수 순위\n",
        "# Happiness Score: 행복지수 점수\n",
        "# GDP per capita: 1인당 GDP\n",
        "# Healthy Life Expectancy: 건강 기대수명\n",
        "# Social support: 사회적 지원(대인관계)\n",
        "# Freedom to make life choices: 삶에 대한 선택의 자유\n",
        "# Generosity: 관용\n",
        "# Corruption Perception: 부정부패\n",
        "# Dystopia + Residual: 사회에 대한 불안함"
      ]
    }
  ]
}