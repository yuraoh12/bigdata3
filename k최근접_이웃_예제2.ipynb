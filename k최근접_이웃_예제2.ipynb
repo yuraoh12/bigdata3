{
  "nbformat": 4,
  "nbformat_minor": 0,
  "metadata": {
    "colab": {
      "name": "k최근접 이웃 예제2",
      "provenance": [],
      "collapsed_sections": [],
      "authorship_tag": "ABX9TyMMZMDEd2PXEEXROdkksqv2",
      "include_colab_link": true
    },
    "kernelspec": {
      "name": "python3",
      "display_name": "Python 3"
    },
    "language_info": {
      "name": "python"
    }
  },
  "cells": [
    {
      "cell_type": "markdown",
      "metadata": {
        "id": "view-in-github",
        "colab_type": "text"
      },
      "source": [
        "<a href=\"https://colab.research.google.com/github/chacha86/BigData3/blob/colab/k%EC%B5%9C%EA%B7%BC%EC%A0%91_%EC%9D%B4%EC%9B%83_%EC%98%88%EC%A0%9C2.ipynb\" target=\"_parent\"><img src=\"https://colab.research.google.com/assets/colab-badge.svg\" alt=\"Open In Colab\"/></a>"
      ]
    },
    {
      "cell_type": "code",
      "source": [
        "# 머신러닝 알고리즘. \n",
        "# KNN - 최근접 이웃 알고리즘\n",
        "\n",
        "import pandas as pd\n",
        "\n",
        "df = pd.read_csv('/content/Fish.csv')\n",
        "\n",
        "# 지도 학습 -> 학습을 시킬 때 답을 제시\n",
        "# 비지도 학습 -> 답X, 데이터들의 패턴을 통해 상관관계를 나타내는데 많이 이용\n",
        "\n",
        "# 학습 데이터 (모의고사 문제)\n",
        "# 정답 데이터 (모의고사 문제의 정답)\n",
        "# 학습데이터와 정답데이터를 이용해 머신러닝 알고리즘을 훈련시킬 수 있다.\n",
        "\n",
        "# 무게\n",
        "weight = df['Weight']\n",
        "\n",
        "# 수학적인 알고리즘 처리 -> 배열(넘파이)\n",
        "# 머신러닝 알고리즘에는 배열로 넘겨준다.\n",
        "weight.values\n",
        "\n",
        "species = df['Species']\n",
        "\n",
        "species.unique() # 물고기 종류 확인\n",
        "df\n",
        "# 마킹\n",
        "\n",
        "# 내가 원하는 것.(분류 되기를 바라는 것.) -> target(정답: 1, 나머진 : 0)\n",
        "\n",
        "# bream에다가 마킹하기\n",
        "df['target'] = 0 # target 컬럼 만들기(초기값 0)\n",
        "\n",
        "idx = df['Species'] == 'Bream' # 조건 인덱싱으로 Bream인 인덱스 찾기\n",
        "\n",
        "# 판다스 인덱싱 -> loc, iloc\n",
        "df.loc[0:10, 'Species' : 'Length1'] \n",
        "\n",
        "df.loc[idx, 'target'] = 1 # 판다스 인덱싱을 이용해 데이터 수정하기\n",
        "\n",
        "# 학습데이터\n",
        "idx2 = (df['Species'] == 'Bream') | (df['Species'] == 'Smelt')\n",
        "df2 = df[idx2]\n",
        "train_set = df2[['Weight', 'Length1']]\n",
        "\n",
        "# 정답데이터 \n",
        "target_set = df2['target']\n",
        "\n",
        "# 배열로 변환\n",
        "train_set = train_set.values\n",
        "target_set = target_set.values\n"
      ],
      "metadata": {
        "id": "6DMGYBNnHNO3"
      },
      "execution_count": 6,
      "outputs": []
    },
    {
      "cell_type": "code",
      "source": [
        "import matplotlib.pyplot as plt\n",
        "\n",
        "# 산점도 그래프를 이용해 데이터의 현황을 시각적으로 파악\n",
        "plt.scatter(train_set[:, 0], train_set[:, 1])\n",
        "plt.scatter([230, 250, 440, 560], [22,33, 25, 34])\n",
        "plt.scatter(80, 12, marker='x')\n",
        "\n",
        "\n",
        "from sklearn.neighbors import KNeighborsClassifier # KNN 알고리즘 모델\n",
        "\n",
        "kn = KNeighborsClassifier()\n",
        "\n",
        "# 학습\n",
        "kn.fit(train_set, target_set)\n",
        "\n",
        "# 평가\n",
        "kn.score(train_set, target_set) # 1.0 ==> 100%\n",
        "\n",
        "# 예측\n",
        "kn.predict([[80, 12]])\n",
        "\n",
        "# 최근접 이웃\n",
        "# 5개중에 더 많은 것을 정답이라고 예측(최근접 이웃의 개수는 설정할 수 있음.\n",
        "\n",
        "\n",
        "import numpy as np\n",
        "\n",
        "# 학습 데이터와 테스트 데이터가 동일하면 모델 학습 평가가 100이 나오게 되는데 이 100은 의미가 없음. 학습시킨 데이터와는 다른 데이터로 평가해야 유의미한 값이 나옴\n",
        "\n",
        "train_data = train_set[:35,:]\n",
        "test_data = train_set[35:, ]\n",
        "\n",
        "train_target = target_set[:35]\n",
        "test_target = target_set[35:]\n",
        "\n",
        "kn.fit(train_data, train_target) \n",
        "kn.score(test_data, test_target)\n",
        "\n",
        "# 이번엔 학습 평가 결과가 0이 나옴. 학습을 시킬 때 학습 데이터에 빙어에 대한 데이터가 단 하나도 존재하지 않기 때문. 학습 데이터를 마련할 때는 데이터가 골고루 분포되어 있어야 하므로\n",
        "# 보통 데이터를 한번 섞어줌.\n",
        "\n",
        "# 넘파이의 shuffle을 이용해 배열의 원소들을 섞을 수 있음. 이 때, 학습 데이터와 정답 데이터가 같은 위치로 섞여야 하기 때문에 두 배열데이터를 붙여서 하나의 배열로 \n",
        "# 만든 후 섞어주어야 함\n",
        "\n",
        "# 넘파이 합치기\n",
        "\n",
        "target_arr = np.expand_dims(target_set, axis=1) # 넘파이에서 배열을 합치려면 대상 배열이 2차원부터 가능하기 때문에 1차원 배열인 정답데이터의 차원을 확장함. 각 정답 데이터가 행에 붙어야 하므로 확장 방향은 세로축\n",
        "con_data = np.concatenate((train_set, target_arr), axis=1)\n",
        "np.random.shuffle(con_data) \n",
        "\n",
        "\n",
        "# 배열 다시 나누기\n",
        "rand_train_data = con_data[:35, :2]\n",
        "rand_train_target = con_data[:35, 2 :]\n",
        "rand_test_data = con_data[35:, :2]\n",
        "rand_test_target = con_data[35:, 2 :]\n",
        "\n",
        "# target 배열은 1차원 배열이어야 하므로 차원 축소\n",
        "rand_train_target = np.squeeze(rand_train_target, axis=1)\n",
        "rand_test_target = np.squeeze(rand_test_target, axis=1)\n",
        "\n",
        "# 훈련 후 재평가\n",
        "kn = kn.fit(rand_train_data, rand_train_target)\n",
        "kn.score(rand_test_data, rand_test_target)\n",
        "\n",
        "\n"
      ],
      "metadata": {
        "id": "IUfWsMldUSaA",
        "colab": {
          "base_uri": "https://localhost:8080/",
          "height": 283
        },
        "outputId": "49dd9b69-ad74-4328-e59a-ce11f3c52454"
      },
      "execution_count": 29,
      "outputs": [
        {
          "output_type": "execute_result",
          "data": {
            "text/plain": [
              "1.0"
            ]
          },
          "metadata": {},
          "execution_count": 29
        },
        {
          "output_type": "display_data",
          "data": {
            "text/plain": [
              "<Figure size 432x288 with 1 Axes>"
            ],
            "image/png": "[encoded data removed]"
          },
          "metadata": {
            "needs_background": "light"
          }
        }
      ]
    },
    {
      "cell_type": "code",
      "source": [
        "\n",
        "# 넘파이 합치기\n",
        "\n",
        "\n",
        "# train_set.shape\n",
        "# train_set.ndim\n",
        "\n",
        "# target_set.ndim\n",
        "target_set = np.expand_dims(target_set, axis=1)\n",
        "np.concatenate((train_set, target_set), axis=1)\n",
        "\n",
        "\n",
        "\n",
        "# 모의고사 문제 집합, 함수\n",
        "# 수능 문제 함수,"
      ],
      "metadata": {
        "id": "0qUy6WrWmUfV"
      },
      "execution_count": null,
      "outputs": []
    },
    {
      "cell_type": "code",
      "source": [
        ""
      ],
      "metadata": {
        "id": "49sA0ODZg5eI"
      },
      "execution_count": null,
      "outputs": []
    }
  ]
}