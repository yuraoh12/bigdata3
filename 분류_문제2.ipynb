{
  "nbformat": 4,
  "nbformat_minor": 0,
  "metadata": {
    "colab": {
      "name": "분류 문제2.ipynb",
      "provenance": [],
      "collapsed_sections": [],
      "authorship_tag": "ABX9TyMSrTdZjgV4hCc9yBrV4Vw5",
      "include_colab_link": true
    },
    "kernelspec": {
      "name": "python3",
      "display_name": "Python 3"
    },
    "language_info": {
      "name": "python"
    }
  },
  "cells": [
    {
      "cell_type": "markdown",
      "metadata": {
        "id": "view-in-github",
        "colab_type": "text"
      },
      "source": [
        "<a href=\"https://colab.research.google.com/github/chacha86/BigData3/blob/colab/%EB%B6%84%EB%A5%98_%EB%AC%B8%EC%A0%9C2.ipynb\" target=\"_parent\"><img src=\"https://colab.research.google.com/assets/colab-badge.svg\" alt=\"Open In Colab\"/></a>"
      ]
    },
    {
      "cell_type": "code",
      "execution_count": null,
      "metadata": {
        "id": "aOQflQ_QlgKn"
      },
      "outputs": [],
      "source": [
        "import pandas as pd\n",
        "import numpy as np\n",
        "import matplotlib.pyplot as plt\n",
        "import seaborn as sn\n",
        "\n",
        "# gender : 성별(M: 남, F: 여)\n",
        "# Nationality : 국적\n",
        "# PlaceofBirth : 출생국가\n",
        "# StageID : 학교(초, 중, 고)\n",
        "# GradeID : 성적 등급\n",
        "# SectionID : 반 이름\n",
        "# Topic: 수강 과목\n",
        "# Semester : 수강한 학기 (1학기/ 2학기)\n",
        "# Relation : 주 보호자와 학생의 관계\n",
        "# raisedhands : 수업중 손을 든 횟수\n",
        "# VisitedResources: 학생이 교과 과정을 방문한 횟수\n",
        "# AnnouncementsView: 학생이 과목 공지사항을 방문한 횟수\n",
        "# Discussion : 학생이 토론에 참여한 횟수\n",
        "# ParentAnsweringSurvey : 부모가 학교 설문에 참여했는지 여부\n",
        "# ParentschoolSatisfaction : 부모가 학교에 만족했는지 여부\n",
        "# StudentAbscenceDays : 학생의 결석 횟수(7회 이상/미만)\n",
        "# Class : 학생의 성적 등급 (L: 낮음, M: 보통, H: 높음)"
      ]
    },
    {
      "cell_type": "code",
      "source": [
        "# 1. 판다스로 데이터 읽어오기"
      ],
      "metadata": {
        "id": "U-1H1alklyd2"
      },
      "execution_count": null,
      "outputs": []
    },
    {
      "cell_type": "code",
      "source": [
        "# 2. 데이터의 개수, 데이터 타입, 결측치 확인"
      ],
      "metadata": {
        "id": "8Gf3h6filzw-"
      },
      "execution_count": null,
      "outputs": []
    },
    {
      "cell_type": "code",
      "source": [
        "# 3. 시각화를 이용한 탐색적 분석\n",
        "#  - 수치형 데이터의 탐색적 분석\n",
        "#    - 히스토그램을 이용해 각 수치데이터의 데이터 분포 및 상관관계 확인\n",
        "#  - 범주형 데이터의 탐색적 분석  - 다음을 bar플롯을 이용해 그려주세요.\n",
        "#    - 남녀의 성적 비율\n",
        "#    - 국적에 따른 성적 비율\n",
        "#    - 과목에 따른 성적 비율\n",
        "#    - 부모의 설문 참여에 따른 성적 비율\n",
        "\n",
        "# 성적을 숫자로 바꾸어 한눈에 파악하기 -> map을 이용해서 변환\n"
      ],
      "metadata": {
        "id": "PEQYr5iFl-9f"
      },
      "execution_count": null,
      "outputs": []
    },
    {
      "cell_type": "code",
      "source": [
        "# 4. 카테고리 데이터를 one-hot 벡터로 인코딩하기 "
      ],
      "metadata": {
        "id": "reIQqAyl1RbC"
      },
      "execution_count": null,
      "outputs": []
    },
    {
      "cell_type": "code",
      "source": [
        "# 5. 학습용 데이터와 테스트용 데이터로 나누기"
      ],
      "metadata": {
        "id": "NwIJOHirbszb"
      },
      "execution_count": null,
      "outputs": []
    },
    {
      "cell_type": "code",
      "source": [
        "# 6. 로지스틱 회귀를 이용해 학습하고 평가하기"
      ],
      "metadata": {
        "id": "dbEY26shbxGd"
      },
      "execution_count": null,
      "outputs": []
    },
    {
      "cell_type": "code",
      "source": [
        "# 7. 높은 성적(H)를 받는 데 영향을 미치는 요인 top3는 무엇인가요?"
      ],
      "metadata": {
        "id": "JkCam0pSb33S"
      },
      "execution_count": null,
      "outputs": []
    },
    {
      "cell_type": "code",
      "source": [
        "# 8. 로지스틱 회귀를 이용해 학습시키기\n"
      ],
      "metadata": {
        "id": "eYb1RkjScFPp"
      },
      "execution_count": null,
      "outputs": []
    },
    {
      "cell_type": "code",
      "source": [
        "# 9. 확률적 경사 하강법을 이용해 학습시키기"
      ],
      "metadata": {
        "id": "Wzyx7HI65yQH"
      },
      "execution_count": null,
      "outputs": []
    }
  ]
}