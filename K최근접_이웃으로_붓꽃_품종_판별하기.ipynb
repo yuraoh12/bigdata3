{
  "nbformat": 4,
  "nbformat_minor": 0,
  "metadata": {
    "colab": {
      "name": "K최근접 이웃으로 붓꽃 품종 판별하기",
      "provenance": [],
      "collapsed_sections": [],
      "authorship_tag": "ABX9TyMsh4527aC0fqpuv+Euebv/",
      "include_colab_link": true
    },
    "kernelspec": {
      "name": "python3",
      "display_name": "Python 3"
    },
    "language_info": {
      "name": "python"
    }
  },
  "cells": [
    {
      "cell_type": "markdown",
      "metadata": {
        "id": "view-in-github",
        "colab_type": "text"
      },
      "source": [
        "<a href=\"https://colab.research.google.com/github/chacha86/BigData3/blob/colab/K%EC%B5%9C%EA%B7%BC%EC%A0%91_%EC%9D%B4%EC%9B%83%EC%9C%BC%EB%A1%9C_%EB%B6%93%EA%BD%83_%ED%92%88%EC%A2%85_%ED%8C%90%EB%B3%84%ED%95%98%EA%B8%B0.ipynb\" target=\"_parent\"><img src=\"https://colab.research.google.com/assets/colab-badge.svg\" alt=\"Open In Colab\"/></a>"
      ]
    },
    {
      "cell_type": "code",
      "execution_count": 66,
      "metadata": {
        "colab": {
          "base_uri": "https://localhost:8080/"
        },
        "id": "N-SGzrj7YY2S",
        "outputId": "be5b8c9e-df77-4539-f8e4-1089e8ccbc67"
      },
      "outputs": [
        {
          "output_type": "execute_result",
          "data": {
            "text/plain": [
              "1.0"
            ]
          },
          "metadata": {},
          "execution_count": 66
        }
      ],
      "source": [
        "from sklearn.datasets import load_iris\n",
        "\n",
        "iris = load_iris()\n",
        "\n",
        "# 데이터\n",
        "iris.data\n",
        "\n",
        "# 특성(feature)\n",
        "iris.feature_names\n",
        "\n",
        "# 타겟(target)\n",
        "iris.target\n",
        "\n",
        "# 타겟의 이름\n",
        "iris.target_names\n",
        "\n",
        "# KNN을 이용해서 학습. sepal 특성만 이용해서 학습. 선별하고자 하는 붓꽃 품종은 setosa\n",
        "\n",
        "data = iris.data\n",
        "feature_names = iris.feature_names\n",
        "target = iris.target\n",
        "target_names = iris.target_names\n",
        "\n",
        "import pandas as pd\n",
        "import numpy as np\n",
        "# 판다스로 만들기\n",
        "df = pd.DataFrame(data, columns=feature_names)\n",
        "\n",
        "# setosa의 코드값 확인\n",
        "target_value = np.where(target_names == 'setosa')[0][0]\n",
        "\n",
        "# target 라벨링 \n",
        "df['label'] = target\n",
        "\n",
        "# target 마킹 \n",
        "df['target'] = 0\n",
        "df.loc[df['label'] == target_value, 'target'] = 1\n",
        "\n",
        "# 훈련데이터 준비\n",
        "train_data_ratio = 0.7\n",
        "data_cnt = df.shape[0]\n",
        "train_data_cnt = data_cnt * train_data_ratio\n",
        "\n",
        "# 데이터를 자르기 전에 셔플\n",
        "df = df.sample(frac=1)\n",
        "\n",
        "# 행은 train_data_cnt만큼, 열은 sepal만큼 잘라서 준비\n",
        "train_data = df.loc[:train_data_cnt, df.columns.values[:2]].values\n",
        "# 정답 데이터 준비\n",
        "train_target = df.loc[:train_data_cnt, 'target'].values\n",
        "\n",
        "# 테스트 데이터 준비\n",
        "test_data = df.loc[train_data_cnt:, df.columns.values[:2]].values\n",
        "test_target = df.loc[train_data_cnt:, 'target'].values\n",
        "\n",
        "# KNN 모델 만들고 학습 및 평가\n",
        "from sklearn.neighbors import KNeighborsClassifier\n",
        "\n",
        "kn = KNeighborsClassifier()\n",
        "kn.fit(train_data, train_target)\n",
        "kn.score(test_data, test_target)\n",
        "\n"
      ]
    }
  ]
}