{
  "nbformat": 4,
  "nbformat_minor": 0,
  "metadata": {
    "colab": {
      "name": "경사 하강 예제 코드.ipynb",
      "provenance": [],
      "collapsed_sections": [],
      "authorship_tag": "ABX9TyPV4n0DUeVSJpJixqeIgQ2N",
      "include_colab_link": true
    },
    "kernelspec": {
      "name": "python3",
      "display_name": "Python 3"
    },
    "language_info": {
      "name": "python"
    }
  },
  "cells": [
    {
      "cell_type": "markdown",
      "metadata": {
        "id": "view-in-github",
        "colab_type": "text"
      },
      "source": [
        "<a href=\"https://colab.research.google.com/github/chacha86/BigData3/blob/colab/%EA%B2%BD%EC%82%AC_%ED%95%98%EA%B0%95_%EC%98%88%EC%A0%9C_%EC%BD%94%EB%93%9C.ipynb\" target=\"_parent\"><img src=\"https://colab.research.google.com/assets/colab-badge.svg\" alt=\"Open In Colab\"/></a>"
      ]
    },
    {
      "cell_type": "code",
      "execution_count": 3,
      "metadata": {
        "colab": {
          "base_uri": "https://localhost:8080/",
          "height": 265
        },
        "id": "NzmJVjPPZMYr",
        "outputId": "fbf3f7ab-8210-4145-a339-888b76100af2"
      },
      "outputs": [
        {
          "output_type": "display_data",
          "data": {
            "text/plain": [
              "<Figure size 432x288 with 1 Axes>"
            ],
            "image/png": "[encoded data removed]"
          },
          "metadata": {
            "needs_background": "light"
          }
        }
      ],
      "source": [
        "import matplotlib.pyplot as plt\n",
        "import numpy as np\n",
        " \n",
        "# data = [[2, 81], [4, 93], [6, 91], [8, 97]] # 데이터셋 설정\n",
        "# x = [i[0] for i in data] # [2, 4, 6, 8]이 됨\n",
        "# y = [i[1] for i in data] # [81, 93, 91, 97]이 됨\n",
        " \n",
        "\n",
        "# x_data = np.array(x) # 넘파이 배열로 변환\n",
        "# y_data = np.array(y) \n",
        "import pandas as pd\n",
        "import numpy as np\n",
        "import matplotlib.pyplot as plt \n",
        "\n",
        "fish = pd.read_csv('/content/Fish.csv')\n",
        "fish\n",
        "\n",
        "# 도미의 길이로 무게를 예측\n",
        "x_data = fish[fish['Species'] == 'Perch']['Length1'].values\n",
        "y_data = fish[fish['Species'] == 'Perch']['Weight'].values\n",
        "\n",
        "from sklearn.preprocessing import StandardScaler\n",
        "\n",
        "a = 0 # 기울기 a를 0으로 초기화\n",
        "b = 0 # y절편 b를 0으로 초기화\n",
        " \n",
        "lr = 0.00005 # 학습률 설정 (learning rate)\n",
        " \n",
        "epochs = 100 # 반복 횟수 설정\n",
        " \n",
        "import time\n",
        "# 경사 하강법 시작\n",
        "for i in range(epochs):\n",
        "    y_pred = a * x_data + b # y 예측 값을 구하는 식\n",
        "    error = y_data - y_pred # 오차 error = y 값 - y 예측 값\n",
        " \n",
        "    a_diff = -(1 / len(x_data)) * sum(x_data * (error)) # 평균 제곱 오차를 a로 미분한 값\n",
        "    b_diff = -(1 / len(x_data)) * sum(y_data - y_pred) # 평균 제곱 오차를 b로 미분한 값\n",
        " \n",
        "    a = a - lr * a_diff # 학습률 * 미분 결과 후 기존 a 값 업데이트\n",
        "    b = b - lr * b_diff # 학습률 * 미분 결과 후 기존 b 값 업데이트\n",
        " \n",
        "    if i % 10 == 0: # epoch가 100번 반복될 때마다 아래의 내용을 출력\n",
        "      print(\"epoch = %.f, 기울기 = %.04f, 절편 = %.04f, 에러 = %.04f\" % (i, a, b, error.mean()))\n",
        "      from IPython.display import clear_output \n",
        "      clear_output() \n",
        "      plt.plot([min(x_data), max(x_data)], [min(y_pred), max(y_pred)])\n",
        "      plt.scatter(x_data, y_data)\n",
        "      plt.show()\n",
        "      time.sleep(1)\n"
      ]
    }
  ]
}