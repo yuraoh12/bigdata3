{
  "nbformat": 4,
  "nbformat_minor": 0,
  "metadata": {
    "colab": {
      "name": "붓꽃 품종 분류하기 예.ipynb",
      "provenance": [],
      "collapsed_sections": [],
      "authorship_tag": "ABX9TyNKvTWrJCvngNeRGx4MfL4W",
      "include_colab_link": true
    },
    "kernelspec": {
      "name": "python3",
      "display_name": "Python 3"
    },
    "language_info": {
      "name": "python"
    }
  },
  "cells": [
    {
      "cell_type": "markdown",
      "metadata": {
        "id": "view-in-github",
        "colab_type": "text"
      },
      "source": [
        "<a href=\"https://colab.research.google.com/github/chacha86/BigData3/blob/colab/%EB%B6%93%EA%BD%83_%ED%92%88%EC%A2%85_%EB%B6%84%EB%A5%98%ED%95%98%EA%B8%B0_%EC%98%88.ipynb\" target=\"_parent\"><img src=\"https://colab.research.google.com/assets/colab-badge.svg\" alt=\"Open In Colab\"/></a>"
      ]
    },
    {
      "cell_type": "code",
      "execution_count": null,
      "metadata": {
        "id": "XKWTJug6B3yp"
      },
      "outputs": [],
      "source": [
        "from sklearn.datasets import load_iris\n",
        "\n",
        "iris = load_iris()\n",
        "\n",
        "# 데이터\n",
        "iris.data\n",
        "\n",
        "# 특성(feature)\n",
        "iris.feature_names\n",
        "\n",
        "# 타겟(target)\n",
        "iris.target\n",
        "\n",
        "# 타겟의 이름\n",
        "iris.target_names\n",
        "\n",
        "# 붓꽃 품종 판별하기\n",
        "# 아래와 같이 데이터가 있을 때 로지스틱 회귀를 이용해 각각 어떤 품종인지 판별하고 확률이 얼마인지 출력해주세요.\n",
        "\n",
        "# 6.1,  3,  4.9, 1.8\n",
        "\n",
        "# 4.8, 3.4, 1.6, 0.2 \n",
        "\n",
        "# 5.7, 3.8, 1.7, 0.3 \n",
        "\n",
        "# 5.7, 2.8, 4.5, 1.3 \n",
        "\n",
        "# 5.8, 2.7, 3.9, 1.2 \n"
      ]
    }
  ]
}