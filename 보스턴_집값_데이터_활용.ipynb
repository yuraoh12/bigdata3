{
  "nbformat": 4,
  "nbformat_minor": 0,
  "metadata": {
    "colab": {
      "name": "보스턴 집값 데이터 활용.ipynb",
      "provenance": [],
      "authorship_tag": "ABX9TyP4Pmxmjr+h5gUm/zuAZK6z",
      "include_colab_link": true
    },
    "kernelspec": {
      "name": "python3",
      "display_name": "Python 3"
    },
    "language_info": {
      "name": "python"
    }
  },
  "cells": [
    {
      "cell_type": "markdown",
      "metadata": {
        "id": "view-in-github",
        "colab_type": "text"
      },
      "source": [
        "<a href=\"https://colab.research.google.com/github/chacha86/BigData3/blob/colab/%EB%B3%B4%EC%8A%A4%ED%84%B4_%EC%A7%91%EA%B0%92_%EB%8D%B0%EC%9D%B4%ED%84%B0_%ED%99%9C%EC%9A%A9.ipynb\" target=\"_parent\"><img src=\"https://colab.research.google.com/assets/colab-badge.svg\" alt=\"Open In Colab\"/></a>"
      ]
    },
    {
      "cell_type": "code",
      "execution_count": null,
      "metadata": {
        "id": "jrb3F0IIyKnb"
      },
      "outputs": [],
      "source": [
        "from sklearn.datasets import load_boston\n",
        "import warnings\n",
        "import pandas as pd\n",
        "import numpy as np\n",
        "warnings.filterwarnings('ignore') # 경고무시\n",
        "\n",
        "bos = load_boston()\n",
        "data =  bos.data\n",
        "target =  bos.target\n",
        "feature_names = bos.feature_names\n",
        "\n",
        "df = pd.DataFrame(data, columns=feature_names)\n",
        "\n",
        "# CHAS: 찰스강에 대한 더미 변수(강의 경계에 위치한 경우는 1, 아니면 0)\n",
        "# NOX: 일산화질소 농도\n",
        "# RM: 거주할 수 있는 방 개수\n",
        "# AGE: 1940년 이전에 건축된 소유 주택의 비율\n",
        "# DIS: 5개 주요 고용센터까지의 가중 거리\n",
        "# RAD: 고속도로 접근 용이도\n",
        "# TAX: 10,000달러당 재산세\n",
        "# PTRATIO: 지역의 교사와 학생 수 비율\n",
        "# B: 지역의 흑인 거주 비율\n",
        "# LSTAT: 하위 계층의 비율\n",
        "# PRICE: 본인 소유의 주택 가격(중앙값) - 종속변수 (위의 건 독립변수)"
      ]
    }
  ]
}