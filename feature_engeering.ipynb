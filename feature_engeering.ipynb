{
  "nbformat": 4,
  "nbformat_minor": 0,
  "metadata": {
    "colab": {
      "name": "feature engeering.ipynb",
      "provenance": [],
      "collapsed_sections": [],
      "authorship_tag": "ABX9TyOVKQki1QhHDyzOEfgb6eOK",
      "include_colab_link": true
    },
    "kernelspec": {
      "name": "python3",
      "display_name": "Python 3"
    },
    "language_info": {
      "name": "python"
    }
  },
  "cells": [
    {
      "cell_type": "markdown",
      "metadata": {
        "id": "view-in-github",
        "colab_type": "text"
      },
      "source": [
        "<a href=\"https://colab.research.google.com/github/chacha86/BigData3/blob/colab/feature_engeering.ipynb\" target=\"_parent\"><img src=\"https://colab.research.google.com/assets/colab-badge.svg\" alt=\"Open In Colab\"/></a>"
      ]
    },
    {
      "cell_type": "code",
      "execution_count": 23,
      "metadata": {
        "colab": {
          "base_uri": "https://localhost:8080/"
        },
        "id": "jxUYiOyDSOrJ",
        "outputId": "c9f54f06-bcb6-4597-c868-5d2bd43f4ccf"
      },
      "outputs": [
        {
          "output_type": "execute_result",
          "data": {
            "text/plain": [
              "(0.9727088123261234, 0.9218513088750544)"
            ]
          },
          "metadata": {},
          "execution_count": 23
        }
      ],
      "source": [
        "import pandas as pd\n",
        "import numpy as np\n",
        "import matplotlib.pyplot as plt\n",
        "\n",
        "fish = pd.read_csv('/content/Fish.csv')\n",
        "fish\n",
        "\n",
        "# 도미의 길이로 무게를 예측\n",
        "perch_length = fish[fish['Species'] == 'Perch']['Length1'].values\n",
        "perch_weight = fish[fish['Species'] == 'Perch']['Weight'].values\n",
        "\n",
        "# ===================================================================================================\n",
        "# feature 엔지니어링\n",
        "from sklearn.preprocessing import PolynomialFeatures # feature 엔지니어링에 필요한 객체\n",
        "\n",
        "perch_length = perch_length.reshape(-1, 1)\n",
        "\n",
        "poly = PolynomialFeatures(degree=2, include_bias=False) # degree -> feature 엔지니어링의 목표 차수, include_bias -> 1 포함 여부\n",
        "\n",
        "poly.fit(perch_length, perch_weight) # feature 엔지니어링 대상 데이터를 알려줌\n",
        "\n",
        "poly_data = poly.transform(perch_length)  # 대상 데이터를 세팅한 값으로 feature 엔지니어링 진행하여 결과를 반환\n",
        "\n",
        "# ===================================================================================================\n",
        "from sklearn.model_selection import train_test_split\n",
        "trd, tsd, trt, tst = train_test_split(poly_data, perch_weight)\n",
        "\n",
        "from sklearn.linear_model import LinearRegression\n",
        "\n",
        "lr = LinearRegression()\n",
        "lr.fit(trd, trt)\n",
        "lr.score(trd, trt), lr.score(tsd, tst)\n",
        "\n"
      ]
    },
    {
      "cell_type": "code",
      "source": [
        ""
      ],
      "metadata": {
        "id": "8zOY6-ifTaze"
      },
      "execution_count": null,
      "outputs": []
    }
  ]
}