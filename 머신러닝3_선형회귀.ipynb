{
  "nbformat": 4,
  "nbformat_minor": 0,
  "metadata": {
    "colab": {
      "provenance": [],
      "authorship_tag": "ABX9TyOtvknnu2UXvN3z9bdX9+LH",
      "include_colab_link": true
    },
    "kernelspec": {
      "name": "python3",
      "display_name": "Python 3"
    },
    "language_info": {
      "name": "python"
    }
  },
  "cells": [
    {
      "cell_type": "markdown",
      "metadata": {
        "id": "view-in-github",
        "colab_type": "text"
      },
      "source": [
        "<a href=\"https://colab.research.google.com/github/chacha86/20210227jsp/blob/master/%EB%A8%B8%EC%8B%A0%EB%9F%AC%EB%8B%9D3_%EC%84%A0%ED%98%95%ED%9A%8C%EA%B7%80.ipynb\" target=\"_parent\"><img src=\"https://colab.research.google.com/assets/colab-badge.svg\" alt=\"Open In Colab\"/></a>"
      ]
    },
    {
      "cell_type": "code",
      "execution_count": 1,
      "metadata": {
        "id": "fWdlG6nMHPVW"
      },
      "outputs": [],
      "source": [
        "import pandas as pd\n",
        "import numpy as np\n",
        "import matplotlib.pyplot as plt\n",
        "import seaborn as sns\n",
        "\n",
        "# 1. 데이터 준비\n",
        "df = pd.read_csv('/content/Fish.csv')"
      ]
    },
    {
      "cell_type": "code",
      "source": [
        "df2 = df[['Length1', 'Height', 'Width', 'Weight', 'Species']]\n",
        "df3 = df2.loc[df2['Species'] == 'Perch']"
      ],
      "metadata": {
        "id": "FcNM3E-bHbq1"
      },
      "execution_count": 12,
      "outputs": []
    },
    {
      "cell_type": "code",
      "source": [
        "# 선형회귀\n",
        "# 다중회귀 -> 독립변수(원인), 종속변수(결과), 독립 - 길이,높이, 너비 , 종속 - 무게, \n",
        "# 다항회귀 -> 1차식으로는 설명이 안되는 복잡한 데이터를 설명하기 위해 차수를 높이는 방법.(다중회귀)"
      ],
      "metadata": {
        "id": "imZH11S3Hfeg"
      },
      "execution_count": null,
      "outputs": []
    },
    {
      "cell_type": "code",
      "source": [
        "from sklearn.model_selection import train_test_split\n",
        "trd, tsd, trt, tst = train_test_split(df3[['Length1']], df3['Weight'],train_size = 0.7, random_state=42)\n",
        "trd"
      ],
      "metadata": {
        "id": "N5s_3PwEIfgK"
      },
      "execution_count": null,
      "outputs": []
    },
    {
      "cell_type": "code",
      "source": [
        "from sklearn.linear_model import LinearRegression\n",
        "\n",
        "lr = LinearRegression()\n",
        "\n",
        "lr.fit(trd, trt)\n",
        "\n",
        "# 모델이 학습데이터에 대한 점수 낮고, 테스트 데이터에 대한 점수가 낮은 경우 -> 과소적합\n",
        "# 모델이 학습 데이터에 대한 점수가 매우 높은데, 테스트 점수는 낮은 경우 -> 과대 적합\n",
        "lr.score(trd, trt), lr.score(tsd, tst)\n",
        "\n"
      ],
      "metadata": {
        "colab": {
          "base_uri": "https://localhost:8080/"
        },
        "id": "NHFCqlN_Iv8Y",
        "outputId": "68e4e9ed-2453-4f52-ddc4-d244f0432b9d"
      },
      "execution_count": 17,
      "outputs": [
        {
          "output_type": "execute_result",
          "data": {
            "text/plain": [
              "(0.9345639427973997, 0.8396353302211251)"
            ]
          },
          "metadata": {},
          "execution_count": 17
        }
      ]
    },
    {
      "cell_type": "code",
      "source": [
        "## 다항회귀 + 다중회귀\n",
        "## 다중 회귀\n",
        "\n",
        "mtrd, mtsd, mtrt, mtst = train_test_split(df3[['Length1', 'Height', 'Width']], df3['Weight'],train_size = 0.7, random_state=42)\n",
        "\n",
        "# a * 길이 + b\n",
        "\n",
        "# 회귀계수 a1,a2,a3 -> 가중치\n",
        "# a1 * 길이 + a2 * 높이 + a3 * 너비 + b\n",
        "\n",
        "lr2 = LinearRegression()\n",
        "lr2.fit(mtrd, mtrt)\n",
        "\n",
        "lr2.score(mtrd, mtrt), lr2.score(mtsd, mtst)\n"
      ],
      "metadata": {
        "colab": {
          "base_uri": "https://localhost:8080/"
        },
        "id": "OMEGc8pdJpcR",
        "outputId": "d86ba9bd-ce07-4238-d036-b5fa8107e606"
      },
      "execution_count": 33,
      "outputs": [
        {
          "output_type": "execute_result",
          "data": {
            "text/plain": [
              "(0.9532592691768272, 0.8894875299277586)"
            ]
          },
          "metadata": {},
          "execution_count": 33
        }
      ]
    },
    {
      "cell_type": "code",
      "source": [
        "print(lr.coef_, lr.intercept_)\n",
        "print(lr2.coef_, lr2.intercept_)"
      ],
      "metadata": {
        "id": "fLth1SXmK_bI"
      },
      "execution_count": null,
      "outputs": []
    },
    {
      "cell_type": "code",
      "source": [
        "# 표준화\n",
        "from sklearn.preprocessing import StandardScaler\n",
        "\n",
        "## 사이킷런 -> 변환기, 추정기\n",
        "ss = StandardScaler()\n",
        "\n",
        "## fit\n",
        "## transform\n",
        "ss.fit(mtrd, mtrt) # 데이터 세팅\n",
        "scaled_mtrd = ss.transform(mtrd)\n",
        "scaled_mtsd = ss.transform(mtsd)\n",
        "\n",
        "lr3 = LinearRegression()\n",
        "lr3.fit(scaled_mtrd, mtrt)\n",
        "\n",
        "lr3.score(scaled_mtrd, mtrt), lr3.score(scaled_mtsd, mtst)\n"
      ],
      "metadata": {
        "id": "8kpkOgPxLX-g"
      },
      "execution_count": null,
      "outputs": []
    },
    {
      "cell_type": "code",
      "source": [
        "# 기존의 특성(feature)을 바탕으로 새로운 특성을 만들어낼 수 있다.\n",
        "## 특성 공학(feature engeering)\n",
        "\n",
        "from sklearn.preprocessing import PolynomialFeatures\n",
        "poly = PolynomialFeatures(degree=5)\n",
        "\n",
        "poly.fit(scaled_mtrd, mtrt)\n",
        "poly_scaled_mtrd5 = poly.transform(scaled_mtrd)\n",
        "poly_scaled_mtsd5 = poly.transform(scaled_mtsd)\n",
        "\n",
        "#poly.get_feature_names_out()\n",
        "\n"
      ],
      "metadata": {
        "colab": {
          "base_uri": "https://localhost:8080/"
        },
        "id": "biuOISGxL9O7",
        "outputId": "780721ee-b032-443e-dbc9-69d4f8c5210b"
      },
      "execution_count": 45,
      "outputs": [
        {
          "output_type": "execute_result",
          "data": {
            "text/plain": [
              "(39, 56)"
            ]
          },
          "metadata": {},
          "execution_count": 45
        }
      ]
    },
    {
      "cell_type": "code",
      "source": [
        "lr4 = LinearRegression()\n",
        "lr4.fit(poly_scaled_mtrd5, mtrt)\n",
        "\n",
        "## 학습데이터 점수는 매우 높고, 테스트 데이터 점수는 낮게 나오는 경우 -> 과대적합\n",
        "lr4.score(poly_scaled_mtrd5, mtrt), lr4.score(poly_scaled_mtsd5, mtst)\n"
      ],
      "metadata": {
        "colab": {
          "base_uri": "https://localhost:8080/"
        },
        "id": "vFzsLKGuPlsi",
        "outputId": "d95cc96c-a570-4599-d07d-6dc7a8e91a98"
      },
      "execution_count": 47,
      "outputs": [
        {
          "output_type": "execute_result",
          "data": {
            "text/plain": [
              "(1.0, -39.44722671698238)"
            ]
          },
          "metadata": {},
          "execution_count": 47
        }
      ]
    }
  ]
}