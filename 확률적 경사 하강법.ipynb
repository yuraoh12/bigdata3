{
  "nbformat": 4,
  "nbformat_minor": 0,
  "metadata": {
    "colab": {
      "name": "Untitled60.ipynb의 사본",
      "provenance": [],
      "collapsed_sections": [],
      "authorship_tag": "ABX9TyNt+agye9vQy92Vd28bqzxG",
      "include_colab_link": true
    },
    "kernelspec": {
      "name": "python3",
      "display_name": "Python 3"
    },
    "language_info": {
      "name": "python"
    }
  },
  "cells": [
    {
      "cell_type": "markdown",
      "metadata": {
        "id": "view-in-github",
        "colab_type": "text"
      },
      "source": [
        "<a href=\"https://colab.research.google.com/github/chacha86/BigData3/blob/colab/%ED%99%95%EB%A5%A0%EC%A0%81%20%EA%B2%BD%EC%82%AC%20%ED%95%98%EA%B0%95%EB%B2%95.ipynb\" target=\"_parent\"><img src=\"https://colab.research.google.com/assets/colab-badge.svg\" alt=\"Open In Colab\"/></a>"
      ]
    },
    {
      "cell_type": "code",
      "execution_count": 19,
      "metadata": {
        "id": "_N1qSwYMosEg",
        "colab": {
          "base_uri": "https://localhost:8080/",
          "height": 283
        },
        "outputId": "ca51998e-0e84-442a-eb1c-b9d5f5a4933d"
      },
      "outputs": [
        {
          "output_type": "execute_result",
          "data": {
            "text/plain": [
              "(0.957983193277311, 0.925)"
            ]
          },
          "metadata": {},
          "execution_count": 19
        },
        {
          "output_type": "display_data",
          "data": {
            "text/plain": [
              "<Figure size 432x288 with 1 Axes>"
            ],
            "image/png": "[encoded data removed]"
          },
          "metadata": {
            "needs_background": "light"
          }
        }
      ],
      "source": [
        "import numpy as np\n",
        "import pandas as pd\n",
        "import matplotlib.pyplot as plt\n",
        "\n",
        "fish = pd.read_csv('/content/Fish.csv')\n",
        "\n",
        "fish_input = fish[['Weight', 'Length2','Length3', 'Height', 'Width']].to_numpy()\n",
        "fish_target = fish['Species'].to_numpy()\n",
        "\n",
        "from sklearn.model_selection import train_test_split\n",
        "\n",
        "trd, tsd, trt, tst = train_test_split(fish_input, fish_target, random_state=42)\n",
        "\n",
        "from sklearn.preprocessing import StandardScaler\n",
        "\n",
        "ss = StandardScaler()\n",
        "ss.fit(trd)\n",
        "trd_s = ss.transform(trd)\n",
        "tsd_s = ss.transform(tsd)\n",
        "\n",
        "from sklearn.linear_model import SGDClassifier\n",
        "\n",
        "sc = SGDClassifier(loss='log', random_state=42)\n",
        "\n",
        "trd_score_list = []\n",
        "tsd_score_list = []\n",
        "\n",
        "for i in range(500) :\n",
        "  sc.partial_fit(trd_s, trt, classes=np.unique(trt))\n",
        "  trd_score_list.append(sc.score(trd_s, trt))\n",
        "  tsd_score_list.append(sc.score(tsd_s, tst))\n",
        "\n",
        "plt.plot(trd_score_list)\n",
        "plt.plot(tsd_score_list)\n",
        "\n",
        "sc2 = SGDClassifier(loss='log', max_iter=100, tol=None ,random_state=42)\n",
        "\n",
        "sc2.fit(trd_s, trt)\n",
        "sc2.score(trd_s, trt), sc.score(tsd_s, tst)\n"
      ]
    },
    {
      "cell_type": "code",
      "source": [
        ""
      ],
      "metadata": {
        "id": "sT9s8wyWpP0e"
      },
      "execution_count": null,
      "outputs": []
    }
  ]
}