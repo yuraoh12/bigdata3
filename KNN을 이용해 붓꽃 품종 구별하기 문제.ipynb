{
  "nbformat": 4,
  "nbformat_minor": 0,
  "metadata": {
    "colab": {
      "name": "Untitled46.ipynb",
      "provenance": [],
      "authorship_tag": "ABX9TyOez5MSWcPlFP6d70zZE6Td",
      "include_colab_link": true
    },
    "kernelspec": {
      "name": "python3",
      "display_name": "Python 3"
    },
    "language_info": {
      "name": "python"
    }
  },
  "cells": [
    {
      "cell_type": "markdown",
      "metadata": {
        "id": "view-in-github",
        "colab_type": "text"
      },
      "source": [
        "<a href=\"https://colab.research.google.com/github/chacha86/BigData3/blob/colab/KNN%EC%9D%84%20%EC%9D%B4%EC%9A%A9%ED%95%B4%20%EB%B6%93%EA%BD%83%20%ED%92%88%EC%A2%85%20%EA%B5%AC%EB%B3%84%ED%95%98%EA%B8%B0%20%EB%AC%B8%EC%A0%9C.ipynb\" target=\"_parent\"><img src=\"https://colab.research.google.com/assets/colab-badge.svg\" alt=\"Open In Colab\"/></a>"
      ]
    },
    {
      "cell_type": "code",
      "execution_count": 14,
      "metadata": {
        "colab": {
          "base_uri": "https://localhost:8080/"
        },
        "id": "N-SGzrj7YY2S",
        "outputId": "ca8ee521-553c-4636-b5e9-54250658bb69"
      },
      "outputs": [
        {
          "output_type": "execute_result",
          "data": {
            "text/plain": [
              "array(['setosa', 'versicolor', 'virginica'], dtype='<U10')"
            ]
          },
          "metadata": {},
          "execution_count": 14
        }
      ],
      "source": [
        "from sklearn.datasets import load_iris\n",
        "\n",
        "iris = load_iris()\n",
        "\n",
        "# 데이터\n",
        "iris.data\n",
        "\n",
        "# 특성(feature)\n",
        "iris.feature_names\n",
        "\n",
        "# 타겟(target)\n",
        "iris.target\n",
        "\n",
        "# 타겟의 이름\n",
        "iris.target_names\n",
        "\n",
        "# KNN을 이용해서 학습. sepal 특성만 이용해서 학습. 선별하고자 하는 붓꽃 품종은 setosa\n",
        "\n",
        "\n",
        "\n"
      ]
    }
  ]
}