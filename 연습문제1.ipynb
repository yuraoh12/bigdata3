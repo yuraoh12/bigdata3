{
  "nbformat": 4,
  "nbformat_minor": 0,
  "metadata": {
    "colab": {
      "name": "연습문제1.ipynb",
      "provenance": [],
      "collapsed_sections": [],
      "authorship_tag": "ABX9TyPTerdwY8vF4QWZ7X7moIjf",
      "include_colab_link": true
    },
    "kernelspec": {
      "name": "python3",
      "display_name": "Python 3"
    },
    "language_info": {
      "name": "python"
    }
  },
  "cells": [
    {
      "cell_type": "markdown",
      "metadata": {
        "id": "view-in-github",
        "colab_type": "text"
      },
      "source": [
        "<a href=\"https://colab.research.google.com/github/chacha86/BigData3/blob/colab/%EC%97%B0%EC%8A%B5%EB%AC%B8%EC%A0%9C1.ipynb\" target=\"_parent\"><img src=\"https://colab.research.google.com/assets/colab-badge.svg\" alt=\"Open In Colab\"/></a>"
      ]
    },
    {
      "cell_type": "code",
      "execution_count": null,
      "metadata": {
        "id": "MPKrCukaZ89I"
      },
      "outputs": [],
      "source": [
        "import pandas as pd\n",
        "import numpy as np\n",
        "import matplotlib.pyplot as plt\n",
        "\n",
        "# 각 특성 데이터 설명\n",
        "# age : 환자의 나이\n",
        "# anaemia : 환자의 빈혈증 여부(0: 정상, 1: 빈혈)\n",
        "# creatinine_phosphokinase: 크레아틴키나제 검사 결과\n",
        "# diabetes : 당뇨 여부 (0: 정상, 1: 당뇨)\n",
        "# ejection_fraction : 박출계수(%)\n",
        "# high_blood_pressure : 고혈압여부 (0: 정상, 1: 고혈압)\n",
        "# platelets : 혈소판 수 (kiloplatelets/mL)\n",
        "# serum_creatinine : 혈중 크레아틴 레벨(mg/dL)\n",
        "# serum_sodium : 혈중 나트륨 레벨(mEq/L)\n",
        "# sex : 성별(0: 여성, 1: 남성)\n",
        "# smoking : 흡연 여부 (0: 비흡연, 1: 흡연)\n",
        "# time : 관찰기관(일)\n",
        "# DEATH_EVENT : 사망 여부 (0: 생존, 1: 사망"
      ]
    },
    {
      "cell_type": "code",
      "source": [
        "# 1. 판다스로 데이터 읽어오기"
      ],
      "metadata": {
        "id": "GgZgI9HjahkU"
      },
      "execution_count": null,
      "outputs": []
    },
    {
      "cell_type": "code",
      "source": [
        "# 2. 데이터의 개수, 데이터 타입, 결측치 확인"
      ],
      "metadata": {
        "id": "sUfYoAfKak0o"
      },
      "execution_count": null,
      "outputs": []
    },
    {
      "cell_type": "code",
      "source": [
        "# 3. 시각화를 이용한 탐색적 분석\n",
        "# 히스토그램을 이용해 각 수치데이터의 데이터 분포 및 상관관계 확인하기"
      ],
      "metadata": {
        "id": "o9gbsJ4kaoev"
      },
      "execution_count": null,
      "outputs": []
    },
    {
      "cell_type": "code",
      "source": [
        "# 4. 수치 데이터 정규화하기\n",
        "#  - 정규화 하기 전에 카테고리형 데이터는 빼고 수치형 데이터만 정규화하기.\n",
        "#  - 정규화된 수치형 데이터와 카테고리형 데이터를 다시 붙이기"
      ],
      "metadata": {
        "id": "qsRVhgiAa8Bs"
      },
      "execution_count": null,
      "outputs": []
    },
    {
      "cell_type": "code",
      "source": [
        "# 5. 훈련데이터와 타겟(정답)데이터 나누기 "
      ],
      "metadata": {
        "id": "PnL_UJcCbkF2"
      },
      "execution_count": null,
      "outputs": []
    },
    {
      "cell_type": "code",
      "source": [
        "# 6. 학습용 데이터와 테스트용 데이터로 나누기"
      ],
      "metadata": {
        "id": "NwIJOHirbszb"
      },
      "execution_count": null,
      "outputs": []
    },
    {
      "cell_type": "code",
      "source": [
        "# 7. 로지스틱 회귀를 이용해 학습하고 평가하기"
      ],
      "metadata": {
        "id": "dbEY26shbxGd"
      },
      "execution_count": null,
      "outputs": []
    },
    {
      "cell_type": "code",
      "source": [
        "# 8. 데이터와 death와의 상관관계를 막대그래프로 그리고 가장 높은 특성을 3개 확인"
      ],
      "metadata": {
        "id": "JkCam0pSb33S"
      },
      "execution_count": null,
      "outputs": []
    },
    {
      "cell_type": "code",
      "source": [
        "# 9. time 특성은 학습용 특성으로 적합하지 않음. 제거한 후  확률 경사 하강법으로 학습하기 (학습데이터에 대한 학습평가 74 이상, 테스트데이터에 대한 학습평가 77이상 맞춰보세요)"
      ],
      "metadata": {
        "id": "eYb1RkjScFPp"
      },
      "execution_count": null,
      "outputs": []
    },
    {
      "cell_type": "code",
      "source": [
        ""
      ],
      "metadata": {
        "id": "Zfqrjz8TcZY4"
      },
      "execution_count": null,
      "outputs": []
    }
  ]
}